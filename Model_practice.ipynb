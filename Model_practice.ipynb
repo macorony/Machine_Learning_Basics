{
  "nbformat": 4,
  "nbformat_minor": 0,
  "metadata": {
    "colab": {
      "provenance": [],
      "authorship_tag": "ABX9TyPXTI/kOD/ft5sTWYR8jGit",
      "include_colab_link": true
    },
    "kernelspec": {
      "name": "python3",
      "display_name": "Python 3"
    },
    "language_info": {
      "name": "python"
    }
  },
  "cells": [
    {
      "cell_type": "markdown",
      "metadata": {
        "id": "view-in-github",
        "colab_type": "text"
      },
      "source": [
        "<a href=\"https://colab.research.google.com/github/macorony/Machine_Learning_Basics/blob/main/Model_practice.ipynb\" target=\"_parent\"><img src=\"https://colab.research.google.com/assets/colab-badge.svg\" alt=\"Open In Colab\"/></a>"
      ]
    },
    {
      "cell_type": "code",
      "execution_count": 1,
      "metadata": {
        "id": "Y9XlK-beKQlX"
      },
      "outputs": [],
      "source": [
        "import warnings\n",
        "warnings.filterwarnings('ignore')\n",
        "import numpy as np\n",
        "import pandas as pd\n",
        "import matplotlib.pyplot as plt\n",
        "import seaborn as sns\n",
        "%matplotlib inline\n",
        "# predefined dataset\n",
        "from sklearn import datasets\n",
        "# preprocessing\n",
        "from sklearn.model_selection import train_test_split\n",
        "# models\n",
        "from sklearn.linear_model import LinearRegression\n",
        "# evaluation\n",
        "from sklearn.metrics import roc_curve, roc_auc_score, mean_absolute_error, mean_squared_error"
      ]
    },
    {
      "cell_type": "code",
      "source": [
        "X, y = datasets.load_diabetes(return_X_y=True)"
      ],
      "metadata": {
        "id": "ErPEhw7WLmVD"
      },
      "execution_count": 2,
      "outputs": []
    },
    {
      "cell_type": "code",
      "source": [
        "print(X.shape)\n",
        "print(y.shape)"
      ],
      "metadata": {
        "colab": {
          "base_uri": "https://localhost:8080/"
        },
        "id": "2vLscVOkMYFm",
        "outputId": "d5312bf0-dee1-4471-c4be-e950feb2eafe"
      },
      "execution_count": 3,
      "outputs": [
        {
          "output_type": "stream",
          "name": "stdout",
          "text": [
            "(442, 10)\n",
            "(442,)\n"
          ]
        }
      ]
    },
    {
      "cell_type": "code",
      "source": [
        "X_train, X_test, y_train, y_test =train_test_split(X, y, test_size=0.25, random_state=0)"
      ],
      "metadata": {
        "id": "LVYzLqs-OIrT"
      },
      "execution_count": 4,
      "outputs": []
    },
    {
      "cell_type": "code",
      "source": [
        "pd.DataFrame(X_train).describe()"
      ],
      "metadata": {
        "colab": {
          "base_uri": "https://localhost:8080/",
          "height": 300
        },
        "id": "uAHG2hFTcxZr",
        "outputId": "08e3682d-5e98-4208-abc4-3002d8766141"
      },
      "execution_count": 5,
      "outputs": [
        {
          "output_type": "execute_result",
          "data": {
            "text/plain": [
              "                0           1           2           3           4           5  \\\n",
              "count  331.000000  331.000000  331.000000  331.000000  331.000000  331.000000   \n",
              "mean    -0.000005    0.001147   -0.001283   -0.000948   -0.000742   -0.001098   \n",
              "std      0.048192    0.047696    0.048700    0.047401    0.047406    0.047435   \n",
              "min     -0.107226   -0.044642   -0.090275   -0.112400   -0.108893   -0.115613   \n",
              "25%     -0.038207   -0.044642   -0.036385   -0.036656   -0.034592   -0.030906   \n",
              "50%      0.005383   -0.044642   -0.008362   -0.005671   -0.004321   -0.004759   \n",
              "75%      0.038076    0.050680    0.030440    0.032201    0.025262    0.024521   \n",
              "max      0.110727    0.050680    0.170555    0.132044    0.153914    0.198788   \n",
              "\n",
              "                6           7           8           9  \n",
              "count  331.000000  331.000000  331.000000  331.000000  \n",
              "mean    -0.000172    0.000579   -0.000101    0.000111  \n",
              "std      0.047890    0.048596    0.049075    0.049977  \n",
              "min     -0.102307   -0.076395   -0.126097   -0.137767  \n",
              "25%     -0.034197   -0.039493   -0.033249   -0.034215  \n",
              "50%     -0.006584   -0.002592   -0.004220   -0.001078  \n",
              "75%      0.026550    0.034309    0.030880    0.029988  \n",
              "max      0.181179    0.185234    0.133599    0.135612  "
            ],
            "text/html": [
              "\n",
              "  <div id=\"df-02c83f07-e1e8-439e-88d9-f3ea9f2e510b\">\n",
              "    <div class=\"colab-df-container\">\n",
              "      <div>\n",
              "<style scoped>\n",
              "    .dataframe tbody tr th:only-of-type {\n",
              "        vertical-align: middle;\n",
              "    }\n",
              "\n",
              "    .dataframe tbody tr th {\n",
              "        vertical-align: top;\n",
              "    }\n",
              "\n",
              "    .dataframe thead th {\n",
              "        text-align: right;\n",
              "    }\n",
              "</style>\n",
              "<table border=\"1\" class=\"dataframe\">\n",
              "  <thead>\n",
              "    <tr style=\"text-align: right;\">\n",
              "      <th></th>\n",
              "      <th>0</th>\n",
              "      <th>1</th>\n",
              "      <th>2</th>\n",
              "      <th>3</th>\n",
              "      <th>4</th>\n",
              "      <th>5</th>\n",
              "      <th>6</th>\n",
              "      <th>7</th>\n",
              "      <th>8</th>\n",
              "      <th>9</th>\n",
              "    </tr>\n",
              "  </thead>\n",
              "  <tbody>\n",
              "    <tr>\n",
              "      <th>count</th>\n",
              "      <td>331.000000</td>\n",
              "      <td>331.000000</td>\n",
              "      <td>331.000000</td>\n",
              "      <td>331.000000</td>\n",
              "      <td>331.000000</td>\n",
              "      <td>331.000000</td>\n",
              "      <td>331.000000</td>\n",
              "      <td>331.000000</td>\n",
              "      <td>331.000000</td>\n",
              "      <td>331.000000</td>\n",
              "    </tr>\n",
              "    <tr>\n",
              "      <th>mean</th>\n",
              "      <td>-0.000005</td>\n",
              "      <td>0.001147</td>\n",
              "      <td>-0.001283</td>\n",
              "      <td>-0.000948</td>\n",
              "      <td>-0.000742</td>\n",
              "      <td>-0.001098</td>\n",
              "      <td>-0.000172</td>\n",
              "      <td>0.000579</td>\n",
              "      <td>-0.000101</td>\n",
              "      <td>0.000111</td>\n",
              "    </tr>\n",
              "    <tr>\n",
              "      <th>std</th>\n",
              "      <td>0.048192</td>\n",
              "      <td>0.047696</td>\n",
              "      <td>0.048700</td>\n",
              "      <td>0.047401</td>\n",
              "      <td>0.047406</td>\n",
              "      <td>0.047435</td>\n",
              "      <td>0.047890</td>\n",
              "      <td>0.048596</td>\n",
              "      <td>0.049075</td>\n",
              "      <td>0.049977</td>\n",
              "    </tr>\n",
              "    <tr>\n",
              "      <th>min</th>\n",
              "      <td>-0.107226</td>\n",
              "      <td>-0.044642</td>\n",
              "      <td>-0.090275</td>\n",
              "      <td>-0.112400</td>\n",
              "      <td>-0.108893</td>\n",
              "      <td>-0.115613</td>\n",
              "      <td>-0.102307</td>\n",
              "      <td>-0.076395</td>\n",
              "      <td>-0.126097</td>\n",
              "      <td>-0.137767</td>\n",
              "    </tr>\n",
              "    <tr>\n",
              "      <th>25%</th>\n",
              "      <td>-0.038207</td>\n",
              "      <td>-0.044642</td>\n",
              "      <td>-0.036385</td>\n",
              "      <td>-0.036656</td>\n",
              "      <td>-0.034592</td>\n",
              "      <td>-0.030906</td>\n",
              "      <td>-0.034197</td>\n",
              "      <td>-0.039493</td>\n",
              "      <td>-0.033249</td>\n",
              "      <td>-0.034215</td>\n",
              "    </tr>\n",
              "    <tr>\n",
              "      <th>50%</th>\n",
              "      <td>0.005383</td>\n",
              "      <td>-0.044642</td>\n",
              "      <td>-0.008362</td>\n",
              "      <td>-0.005671</td>\n",
              "      <td>-0.004321</td>\n",
              "      <td>-0.004759</td>\n",
              "      <td>-0.006584</td>\n",
              "      <td>-0.002592</td>\n",
              "      <td>-0.004220</td>\n",
              "      <td>-0.001078</td>\n",
              "    </tr>\n",
              "    <tr>\n",
              "      <th>75%</th>\n",
              "      <td>0.038076</td>\n",
              "      <td>0.050680</td>\n",
              "      <td>0.030440</td>\n",
              "      <td>0.032201</td>\n",
              "      <td>0.025262</td>\n",
              "      <td>0.024521</td>\n",
              "      <td>0.026550</td>\n",
              "      <td>0.034309</td>\n",
              "      <td>0.030880</td>\n",
              "      <td>0.029988</td>\n",
              "    </tr>\n",
              "    <tr>\n",
              "      <th>max</th>\n",
              "      <td>0.110727</td>\n",
              "      <td>0.050680</td>\n",
              "      <td>0.170555</td>\n",
              "      <td>0.132044</td>\n",
              "      <td>0.153914</td>\n",
              "      <td>0.198788</td>\n",
              "      <td>0.181179</td>\n",
              "      <td>0.185234</td>\n",
              "      <td>0.133599</td>\n",
              "      <td>0.135612</td>\n",
              "    </tr>\n",
              "  </tbody>\n",
              "</table>\n",
              "</div>\n",
              "      <button class=\"colab-df-convert\" onclick=\"convertToInteractive('df-02c83f07-e1e8-439e-88d9-f3ea9f2e510b')\"\n",
              "              title=\"Convert this dataframe to an interactive table.\"\n",
              "              style=\"display:none;\">\n",
              "        \n",
              "  <svg xmlns=\"http://www.w3.org/2000/svg\" height=\"24px\"viewBox=\"0 0 24 24\"\n",
              "       width=\"24px\">\n",
              "    <path d=\"M0 0h24v24H0V0z\" fill=\"none\"/>\n",
              "    <path d=\"M18.56 5.44l.94 2.06.94-2.06 2.06-.94-2.06-.94-.94-2.06-.94 2.06-2.06.94zm-11 1L8.5 8.5l.94-2.06 2.06-.94-2.06-.94L8.5 2.5l-.94 2.06-2.06.94zm10 10l.94 2.06.94-2.06 2.06-.94-2.06-.94-.94-2.06-.94 2.06-2.06.94z\"/><path d=\"M17.41 7.96l-1.37-1.37c-.4-.4-.92-.59-1.43-.59-.52 0-1.04.2-1.43.59L10.3 9.45l-7.72 7.72c-.78.78-.78 2.05 0 2.83L4 21.41c.39.39.9.59 1.41.59.51 0 1.02-.2 1.41-.59l7.78-7.78 2.81-2.81c.8-.78.8-2.07 0-2.86zM5.41 20L4 18.59l7.72-7.72 1.47 1.35L5.41 20z\"/>\n",
              "  </svg>\n",
              "      </button>\n",
              "      \n",
              "  <style>\n",
              "    .colab-df-container {\n",
              "      display:flex;\n",
              "      flex-wrap:wrap;\n",
              "      gap: 12px;\n",
              "    }\n",
              "\n",
              "    .colab-df-convert {\n",
              "      background-color: #E8F0FE;\n",
              "      border: none;\n",
              "      border-radius: 50%;\n",
              "      cursor: pointer;\n",
              "      display: none;\n",
              "      fill: #1967D2;\n",
              "      height: 32px;\n",
              "      padding: 0 0 0 0;\n",
              "      width: 32px;\n",
              "    }\n",
              "\n",
              "    .colab-df-convert:hover {\n",
              "      background-color: #E2EBFA;\n",
              "      box-shadow: 0px 1px 2px rgba(60, 64, 67, 0.3), 0px 1px 3px 1px rgba(60, 64, 67, 0.15);\n",
              "      fill: #174EA6;\n",
              "    }\n",
              "\n",
              "    [theme=dark] .colab-df-convert {\n",
              "      background-color: #3B4455;\n",
              "      fill: #D2E3FC;\n",
              "    }\n",
              "\n",
              "    [theme=dark] .colab-df-convert:hover {\n",
              "      background-color: #434B5C;\n",
              "      box-shadow: 0px 1px 3px 1px rgba(0, 0, 0, 0.15);\n",
              "      filter: drop-shadow(0px 1px 2px rgba(0, 0, 0, 0.3));\n",
              "      fill: #FFFFFF;\n",
              "    }\n",
              "  </style>\n",
              "\n",
              "      <script>\n",
              "        const buttonEl =\n",
              "          document.querySelector('#df-02c83f07-e1e8-439e-88d9-f3ea9f2e510b button.colab-df-convert');\n",
              "        buttonEl.style.display =\n",
              "          google.colab.kernel.accessAllowed ? 'block' : 'none';\n",
              "\n",
              "        async function convertToInteractive(key) {\n",
              "          const element = document.querySelector('#df-02c83f07-e1e8-439e-88d9-f3ea9f2e510b');\n",
              "          const dataTable =\n",
              "            await google.colab.kernel.invokeFunction('convertToInteractive',\n",
              "                                                     [key], {});\n",
              "          if (!dataTable) return;\n",
              "\n",
              "          const docLinkHtml = 'Like what you see? Visit the ' +\n",
              "            '<a target=\"_blank\" href=https://colab.research.google.com/notebooks/data_table.ipynb>data table notebook</a>'\n",
              "            + ' to learn more about interactive tables.';\n",
              "          element.innerHTML = '';\n",
              "          dataTable['output_type'] = 'display_data';\n",
              "          await google.colab.output.renderOutput(dataTable, element);\n",
              "          const docLink = document.createElement('div');\n",
              "          docLink.innerHTML = docLinkHtml;\n",
              "          element.appendChild(docLink);\n",
              "        }\n",
              "      </script>\n",
              "    </div>\n",
              "  </div>\n",
              "  "
            ]
          },
          "metadata": {},
          "execution_count": 5
        }
      ]
    },
    {
      "cell_type": "markdown",
      "source": [
        "# EDA"
      ],
      "metadata": {
        "id": "7nlhk1rTcOi1"
      }
    },
    {
      "cell_type": "code",
      "source": [
        "X_train.shape[1]"
      ],
      "metadata": {
        "colab": {
          "base_uri": "https://localhost:8080/"
        },
        "id": "es-_pLoce-bk",
        "outputId": "c8be36d7-54dc-4fc6-fdbc-248bd175e60d"
      },
      "execution_count": 6,
      "outputs": [
        {
          "output_type": "execute_result",
          "data": {
            "text/plain": [
              "10"
            ]
          },
          "metadata": {},
          "execution_count": 6
        }
      ]
    },
    {
      "cell_type": "code",
      "source": [
        "fig, axes = plt.subplots(5,2, figsize=(30, 10))\n",
        "axes = axes.ravel()\n",
        "for i in range(X_train.shape[1]):\n",
        "  sns.kdeplot(X_train[:, i], label=f'{i}th feature', ax=axes[i])\n"
      ],
      "metadata": {
        "colab": {
          "base_uri": "https://localhost:8080/",
          "height": 486
        },
        "id": "hnFkL7xvdrmj",
        "outputId": "875c0477-267d-42a3-c4fb-7c0a33addfda"
      },
      "execution_count": 7,
      "outputs": [
        {
          "output_type": "display_data",
          "data": {
            "text/plain": [
              "<Figure size 2160x720 with 10 Axes>"
            ],
            "image/png": "[encoded data removed]"
          },
          "metadata": {
            "needs_background": "light"
          }
        }
      ]
    },
    {
      "cell_type": "code",
      "source": [
        "sns.kdeplot(y_train)"
      ],
      "metadata": {
        "colab": {
          "base_uri": "https://localhost:8080/",
          "height": 282
        },
        "id": "Xdc-twWFcOBN",
        "outputId": "9561cb85-06e7-44c5-c8dc-54774eff4413"
      },
      "execution_count": 8,
      "outputs": [
        {
          "output_type": "execute_result",
          "data": {
            "text/plain": [
              "<matplotlib.axes._subplots.AxesSubplot at 0x7f2ab5afd5d0>"
            ]
          },
          "metadata": {},
          "execution_count": 8
        },
        {
          "output_type": "display_data",
          "data": {
            "text/plain": [
              "<Figure size 432x288 with 1 Axes>"
            ],
            "image/png": "[encoded data removed]"
          },
          "metadata": {
            "needs_background": "light"
          }
        }
      ]
    },
    {
      "cell_type": "markdown",
      "source": [
        "# Linear Regression"
      ],
      "metadata": {
        "id": "5trGZ3Z9cJxP"
      }
    },
    {
      "cell_type": "code",
      "source": [
        "lr = LinearRegression()\n",
        "lr.fit(X_train, y_train)"
      ],
      "metadata": {
        "colab": {
          "base_uri": "https://localhost:8080/"
        },
        "id": "_IXzszExM9VH",
        "outputId": "42cd6fe9-601a-48ee-a566-9c31cb8f476d"
      },
      "execution_count": 9,
      "outputs": [
        {
          "output_type": "execute_result",
          "data": {
            "text/plain": [
              "LinearRegression()"
            ]
          },
          "metadata": {},
          "execution_count": 9
        }
      ]
    },
    {
      "cell_type": "code",
      "source": [
        "y_pred = lr.predict(X_test)"
      ],
      "metadata": {
        "id": "h-CBCrhWNDgW"
      },
      "execution_count": 10,
      "outputs": []
    },
    {
      "cell_type": "markdown",
      "source": [
        "**Coefficient of Determination**\n",
        "> The number between 0 and 1 measuring how well a statistical model predicts an outcome. \n",
        "\n",
        "> An online post to explain [coefficient of determination](https://www.scribbr.com/statistics/coefficient-of-determination/#:~:text=What%20is%20the%20definition%20of,predicted%20by%20the%20statistical%20model.) \n"
      ],
      "metadata": {
        "id": "xzzcw5UVTS-k"
      }
    },
    {
      "cell_type": "code",
      "source": [
        "print(lr.coef_)\n",
        "print(lr.intercept_)\n",
        "print(lr.score(X_test, y_test))"
      ],
      "metadata": {
        "colab": {
          "base_uri": "https://localhost:8080/"
        },
        "id": "PMle6dpDPEj4",
        "outputId": "e5349f68-a2f0-4f65-b7f1-680c2335d875"
      },
      "execution_count": 11,
      "outputs": [
        {
          "output_type": "stream",
          "name": "stdout",
          "text": [
            "[ -43.26774487 -208.67053951  593.39797213  302.89814903 -560.27689824\n",
            "  261.47657106   -8.83343952  135.93715156  703.22658427   28.34844354]\n",
            "153.06798218266258\n",
            "0.35940090989715534\n"
          ]
        }
      ]
    },
    {
      "cell_type": "code",
      "source": [
        "print(mean_squared_error(y_test, y_pred))\n",
        "print(mean_absolute_error(y_test, y_pred))"
      ],
      "metadata": {
        "colab": {
          "base_uri": "https://localhost:8080/"
        },
        "id": "N8HzHocUQjev",
        "outputId": "9a867658-89d8-4f18-ec74-a4d3922dd577"
      },
      "execution_count": 12,
      "outputs": [
        {
          "output_type": "stream",
          "name": "stdout",
          "text": [
            "3180.1988368427274\n",
            "45.120987683251016\n"
          ]
        }
      ]
    },
    {
      "cell_type": "code",
      "source": [
        "len(X_test)\n",
        "np.arange(1, 112)"
      ],
      "metadata": {
        "colab": {
          "base_uri": "https://localhost:8080/"
        },
        "id": "T3UiZy_yYwwe",
        "outputId": "a498989a-04be-4580-f389-60bcb83a3bcc"
      },
      "execution_count": 13,
      "outputs": [
        {
          "output_type": "execute_result",
          "data": {
            "text/plain": [
              "array([  1,   2,   3,   4,   5,   6,   7,   8,   9,  10,  11,  12,  13,\n",
              "        14,  15,  16,  17,  18,  19,  20,  21,  22,  23,  24,  25,  26,\n",
              "        27,  28,  29,  30,  31,  32,  33,  34,  35,  36,  37,  38,  39,\n",
              "        40,  41,  42,  43,  44,  45,  46,  47,  48,  49,  50,  51,  52,\n",
              "        53,  54,  55,  56,  57,  58,  59,  60,  61,  62,  63,  64,  65,\n",
              "        66,  67,  68,  69,  70,  71,  72,  73,  74,  75,  76,  77,  78,\n",
              "        79,  80,  81,  82,  83,  84,  85,  86,  87,  88,  89,  90,  91,\n",
              "        92,  93,  94,  95,  96,  97,  98,  99, 100, 101, 102, 103, 104,\n",
              "       105, 106, 107, 108, 109, 110, 111])"
            ]
          },
          "metadata": {},
          "execution_count": 13
        }
      ]
    },
    {
      "cell_type": "code",
      "source": [
        "plt.figure(figsize=(30, 5))\n",
        "plt.scatter(np.arange(1,len(X_test)+1), y_test, color='blue')\n",
        "plt.scatter(np.arange(1,len(X_test)+1), y_pred, color='red')\n",
        "plt.show()"
      ],
      "metadata": {
        "colab": {
          "base_uri": "https://localhost:8080/",
          "height": 267
        },
        "id": "l84DOax0R_Nv",
        "outputId": "ca3473cb-b383-44f0-b2f7-0f083786db56"
      },
      "execution_count": 14,
      "outputs": [
        {
          "output_type": "display_data",
          "data": {
            "text/plain": [
              "<Figure size 2160x360 with 1 Axes>"
            ],
            "image/png": "[encoded data removed]"
          },
          "metadata": {
            "needs_background": "light"
          }
        }
      ]
    },
    {
      "cell_type": "markdown",
      "source": [
        "# K-Nearest Neighbors\n",
        "1. The intuition of KNN is that similar things exist in close proximity.\n",
        "2. The similarity is measured by distance (minkowski distance)\n",
        "3. The algorithm is simple to implement. it is model independent but assumption dependent. \n",
        "4. Not fit to large data size training because its inability to handle too many features. \n",
        "5. Two application of KNN: Recommendation system, KNN-search. \n",
        "6. KNN is baseline model to try before more advanced models."
      ],
      "metadata": {
        "id": "Mn8t3zl5rcoH"
      }
    },
    {
      "cell_type": "markdown",
      "source": [
        "A KNN implementation from scratch"
      ],
      "metadata": {
        "id": "vAYmMKkg9CMN"
      }
    },
    {
      "cell_type": "code",
      "source": [
        "from collections import Counter\n",
        "import math"
      ],
      "metadata": {
        "id": "lZuWXMQ7uAMP"
      },
      "execution_count": 17,
      "outputs": []
    },
    {
      "cell_type": "code",
      "source": [
        "def knn_scratch(data, query, k, distance_fn, choice_fn):\n",
        "  neighbor_distances_and_indices = []\n",
        "\n",
        "  for index, example in enumerate(data):\n",
        "    distance = distance_fn(example[:-1], query)\n",
        "    neighbor_distances_and_indices.append((distance, index))\n",
        "    sorted_neighbor_distances_and_indices = sorted(neighbor_distances_and_indices)\n",
        "    k_nearest_distances_and_indices = sorted_neighbor_distances_and_indices[:k]\n",
        "    k_nearest_labels = [data[i][-1] for distance, i in k_nearest_distances_and_indices]\n",
        "    return k_nearest_distances_and_indices, choice_fn(k_nearest_labels)\n",
        "\n",
        "def mean(labels):\n",
        "  return sum(labels) / len(labels)\n",
        "\n",
        "def mode(labels):\n",
        "  return Counter(labels).most_common(1)[0][0]\n",
        "\n",
        "def euclidean_distance(point1, point2):\n",
        "  sum_squared_distance = 0\n",
        "  for i in range(len(point1)):\n",
        "    sum_squared_distance += math.pow(point1[i] - point2[i], 2)\n",
        "  return math.sqrt(sum_squared_distance)\n",
        "\n"
      ],
      "metadata": {
        "id": "25jzOFKduFBk"
      },
      "execution_count": 33,
      "outputs": []
    },
    {
      "cell_type": "code",
      "source": [
        "reg_data = [\n",
        "       [65.75, 112.99],\n",
        "       [71.52, 136.49],\n",
        "       [69.40, 153.03],\n",
        "       [68.22, 142.34],\n",
        "       [67.79, 144.30],\n",
        "       [68.70, 123.30],\n",
        "       [69.80, 141.49],\n",
        "       [70.01, 136.46],\n",
        "       [67.90, 112.37],\n",
        "       [66.49, 127.45],\n",
        "]\n",
        "query = [60]"
      ],
      "metadata": {
        "id": "X_UepGkg6Lu9"
      },
      "execution_count": 38,
      "outputs": []
    },
    {
      "cell_type": "markdown",
      "source": [
        "## Training KNN"
      ],
      "metadata": {
        "id": "BnpSk8ZJKEAf"
      }
    },
    {
      "cell_type": "code",
      "source": [
        "from sklearn.neighbors import KNeighborsRegressor, NearestNeighbors"
      ],
      "metadata": {
        "id": "iWv--0QGzLH_"
      },
      "execution_count": 52,
      "outputs": []
    },
    {
      "cell_type": "code",
      "source": [
        "reg_knn = KNeighborsRegressor(n_neighbors=5, weights='uniform', algorithm='auto', leaf_size=30, p=2, metric='minkowski', n_jobs=None)\n",
        "reg_knn.fit(X_train, y_train)"
      ],
      "metadata": {
        "colab": {
          "base_uri": "https://localhost:8080/"
        },
        "id": "SXOoYlFI93-T",
        "outputId": "521c4e7e-24d3-4c6c-d2df-43d9a126a781"
      },
      "execution_count": 44,
      "outputs": [
        {
          "output_type": "execute_result",
          "data": {
            "text/plain": [
              "KNeighborsRegressor()"
            ]
          },
          "metadata": {},
          "execution_count": 44
        }
      ]
    },
    {
      "cell_type": "code",
      "source": [
        "# the distance metric used\n",
        "print(reg_knn.effective_metric_)\n",
        "# additional keyword arguments for the metric function\n",
        "print(reg_knn.effective_metric_params_)\n",
        "# how many feature as input\n",
        "print(reg_knn.n_features_in_)\n",
        "# sample size\n",
        "print(reg_knn.n_samples_fit_)"
      ],
      "metadata": {
        "colab": {
          "base_uri": "https://localhost:8080/"
        },
        "id": "LeM2JQB296Nx",
        "outputId": "8d489eff-a3cd-49ed-fc9f-1cb69eb6b789"
      },
      "execution_count": 50,
      "outputs": [
        {
          "output_type": "stream",
          "name": "stdout",
          "text": [
            "euclidean\n",
            "{}\n",
            "10\n",
            "331\n"
          ]
        }
      ]
    },
    {
      "cell_type": "code",
      "source": [
        "# model parameters\n",
        "reg_knn.get_params()"
      ],
      "metadata": {
        "colab": {
          "base_uri": "https://localhost:8080/"
        },
        "id": "LsQaDBzjAcyK",
        "outputId": "432acaad-630f-4b31-bcfd-feea6d271734"
      },
      "execution_count": 55,
      "outputs": [
        {
          "output_type": "stream",
          "name": "stdout",
          "text": [
            "{'algorithm': 'auto', 'leaf_size': 30, 'metric': 'minkowski', 'metric_params': None, 'n_jobs': None, 'n_neighbors': 5, 'p': 2, 'weights': 'uniform'}\n"
          ]
        }
      ]
    },
    {
      "cell_type": "code",
      "source": [
        "# find the K-neighbors of a point\n",
        "reg_knn.kneighbors([[-0.04910502, -0.04464164, -0.05686312, -0.04354219, -0.04559945, -0.04327577,  0.00077881, -0.03949338, -0.01190068,  0.01549073]])"
      ],
      "metadata": {
        "colab": {
          "base_uri": "https://localhost:8080/"
        },
        "id": "77BZnxVrCWKT",
        "outputId": "7a886355-715c-46c6-dd4c-28e9fa6a64cd"
      },
      "execution_count": 70,
      "outputs": [
        {
          "output_type": "execute_result",
          "data": {
            "text/plain": [
              "(array([[8.35496391e-09, 6.18265965e-02, 7.29174783e-02, 7.74510944e-02,\n",
              "         7.76567321e-02]]), array([[  0,  44, 306,  83, 231]]))"
            ]
          },
          "metadata": {},
          "execution_count": 70
        }
      ]
    },
    {
      "cell_type": "code",
      "source": [
        "# compute the graph of k_neighbors for points in X\n",
        "neigh_points = reg_knn.kneighbors_graph([[-0.04910502, -0.04464164, -0.05686312, -0.04354219, -0.04559945, -0.04327577,  0.00077881, -0.03949338, -0.01190068,  0.01549073]])\n",
        "neigh_points.toarray()"
      ],
      "metadata": {
        "colab": {
          "base_uri": "https://localhost:8080/"
        },
        "id": "XFU4sCZ8D5xr",
        "outputId": "0a49337f-b952-480e-b424-e54421ee5dba"
      },
      "execution_count": 75,
      "outputs": [
        {
          "output_type": "execute_result",
          "data": {
            "text/plain": [
              "array([[1., 0., 0., 0., 0., 0., 0., 0., 0., 0., 0., 0., 0., 0., 0., 0.,\n",
              "        0., 0., 0., 0., 0., 0., 0., 0., 0., 0., 0., 0., 0., 0., 0., 0.,\n",
              "        0., 0., 0., 0., 0., 0., 0., 0., 0., 0., 0., 0., 1., 0., 0., 0.,\n",
              "        0., 0., 0., 0., 0., 0., 0., 0., 0., 0., 0., 0., 0., 0., 0., 0.,\n",
              "        0., 0., 0., 0., 0., 0., 0., 0., 0., 0., 0., 0., 0., 0., 0., 0.,\n",
              "        0., 0., 0., 1., 0., 0., 0., 0., 0., 0., 0., 0., 0., 0., 0., 0.,\n",
              "        0., 0., 0., 0., 0., 0., 0., 0., 0., 0., 0., 0., 0., 0., 0., 0.,\n",
              "        0., 0., 0., 0., 0., 0., 0., 0., 0., 0., 0., 0., 0., 0., 0., 0.,\n",
              "        0., 0., 0., 0., 0., 0., 0., 0., 0., 0., 0., 0., 0., 0., 0., 0.,\n",
              "        0., 0., 0., 0., 0., 0., 0., 0., 0., 0., 0., 0., 0., 0., 0., 0.,\n",
              "        0., 0., 0., 0., 0., 0., 0., 0., 0., 0., 0., 0., 0., 0., 0., 0.,\n",
              "        0., 0., 0., 0., 0., 0., 0., 0., 0., 0., 0., 0., 0., 0., 0., 0.,\n",
              "        0., 0., 0., 0., 0., 0., 0., 0., 0., 0., 0., 0., 0., 0., 0., 0.,\n",
              "        0., 0., 0., 0., 0., 0., 0., 0., 0., 0., 0., 0., 0., 0., 0., 0.,\n",
              "        0., 0., 0., 0., 0., 0., 0., 1., 0., 0., 0., 0., 0., 0., 0., 0.,\n",
              "        0., 0., 0., 0., 0., 0., 0., 0., 0., 0., 0., 0., 0., 0., 0., 0.,\n",
              "        0., 0., 0., 0., 0., 0., 0., 0., 0., 0., 0., 0., 0., 0., 0., 0.,\n",
              "        0., 0., 0., 0., 0., 0., 0., 0., 0., 0., 0., 0., 0., 0., 0., 0.,\n",
              "        0., 0., 0., 0., 0., 0., 0., 0., 0., 0., 0., 0., 0., 0., 0., 0.,\n",
              "        0., 0., 1., 0., 0., 0., 0., 0., 0., 0., 0., 0., 0., 0., 0., 0.,\n",
              "        0., 0., 0., 0., 0., 0., 0., 0., 0., 0., 0.]])"
            ]
          },
          "metadata": {},
          "execution_count": 75
        }
      ]
    },
    {
      "cell_type": "code",
      "source": [
        "# coefficient of determination of prediction\n",
        "reg_knn.score(X_test, y_test)"
      ],
      "metadata": {
        "colab": {
          "base_uri": "https://localhost:8080/"
        },
        "id": "9WoadLO1EMgj",
        "outputId": "0ab894df-be81-46ab-c8bc-ff1670216e24"
      },
      "execution_count": 78,
      "outputs": [
        {
          "output_type": "execute_result",
          "data": {
            "text/plain": [
              "0.18912404854026388"
            ]
          },
          "metadata": {},
          "execution_count": 78
        }
      ]
    },
    {
      "cell_type": "markdown",
      "source": [
        "Evaluate number of neighbors on model performance"
      ],
      "metadata": {
        "id": "V2eu2caGKZUQ"
      }
    },
    {
      "cell_type": "code",
      "source": [
        "train_accuracy = []\n",
        "test_accuracy = []\n",
        "n_neighbor = range(1, 11)\n",
        "\n",
        "for n in n_neighbor:\n",
        "  reg_knn = KNeighborsRegressor(n_neighbors=n)\n",
        "  reg_knn.fit(X_train, y_train)\n",
        "  train_accuracy.append(reg_knn.score(X_train, y_train))\n",
        "  test_accuracy.append(reg_knn.score(X_test, y_test))\n",
        "\n",
        "plt.plot(n_neighbor, train_accuracy, label='training accuracy')\n",
        "plt.plot(n_neighbor, test_accuracy, label='test accuracy')\n",
        "plt.show()"
      ],
      "metadata": {
        "colab": {
          "base_uri": "https://localhost:8080/",
          "height": 265
        },
        "id": "Uh6JVq3RIuZl",
        "outputId": "ffd18226-bdbb-443f-9bae-b9352b6b2931"
      },
      "execution_count": 81,
      "outputs": [
        {
          "output_type": "display_data",
          "data": {
            "text/plain": [
              "<Figure size 432x288 with 1 Axes>"
            ],
            "image/png": "[encoded data removed]"
          },
          "metadata": {
            "needs_background": "light"
          }
        }
      ]
    },
    {
      "cell_type": "code",
      "source": [
        "from sklearn.datasets import make_moons"
      ],
      "metadata": {
        "id": "m8Tdllk9Lnoh"
      },
      "execution_count": 82,
      "outputs": []
    },
    {
      "cell_type": "code",
      "source": [],
      "metadata": {
        "colab": {
          "base_uri": "https://localhost:8080/"
        },
        "id": "LfhEiSnrNbQA",
        "outputId": "70202792-b597-44bf-a27e-965ca3333527"
      },
      "execution_count": 83,
      "outputs": [
        {
          "output_type": "execute_result",
          "data": {
            "text/plain": [
              "(array([[ 0.11289945, -0.28228413],\n",
              "        [ 1.19135178,  0.20724497],\n",
              "        [ 0.78346923, -0.18742052],\n",
              "        [-0.91033551,  0.34515246],\n",
              "        [ 0.56684696,  0.91576993],\n",
              "        [ 0.06669477,  0.91727985],\n",
              "        [ 0.71349903, -0.44535147],\n",
              "        [-0.42847112,  0.34792071],\n",
              "        [ 1.13671797,  0.77920298],\n",
              "        [-0.05852512,  0.90582094],\n",
              "        [ 0.50992689, -0.60334597],\n",
              "        [ 0.81997554, -0.19345152],\n",
              "        [-0.86819845,  0.4921041 ],\n",
              "        [ 1.10447266, -0.84982889],\n",
              "        [ 0.2599289 ,  0.51921273],\n",
              "        [ 0.43880114,  0.95944139],\n",
              "        [-1.09037102, -0.0470429 ],\n",
              "        [-1.11655218,  0.90973417],\n",
              "        [-0.34071897, -0.14966927],\n",
              "        [ 0.26533128, -0.79421595],\n",
              "        [ 0.56759618,  1.11707318],\n",
              "        [ 1.12744257, -0.81170984],\n",
              "        [-0.77614589,  0.36406896],\n",
              "        [ 0.66307635, -0.80934665],\n",
              "        [ 0.08355628,  1.03429207],\n",
              "        [-0.36885359,  0.0303598 ],\n",
              "        [-0.95939393,  0.24289172],\n",
              "        [-0.66557479,  0.74234643],\n",
              "        [ 1.0873103 , -0.89426933],\n",
              "        [ 0.08409783,  1.56783745],\n",
              "        [ 1.13134854,  0.50150802],\n",
              "        [ 0.68387526,  0.73858329],\n",
              "        [ 0.37932184,  0.67001819],\n",
              "        [ 1.14718954, -0.84305904],\n",
              "        [ 1.61784563,  0.11681991],\n",
              "        [ 0.42504843, -0.48160878],\n",
              "        [ 1.60888212, -0.32493143],\n",
              "        [ 1.96997163, -0.19419634],\n",
              "        [ 1.59312863, -0.17180078],\n",
              "        [ 2.18437133,  0.6462431 ],\n",
              "        [ 2.05823018, -0.10367035],\n",
              "        [ 0.56527124,  0.11439451],\n",
              "        [ 1.76021991, -0.26648323],\n",
              "        [-0.20844794,  0.55708463],\n",
              "        [-0.71492701,  0.63578651],\n",
              "        [-0.72567254,  1.11192645],\n",
              "        [ 0.97160041, -0.72131904],\n",
              "        [-0.92542595,  0.84321641],\n",
              "        [ 0.8545047 ,  0.21082538],\n",
              "        [ 0.34446642, -0.46580503],\n",
              "        [-0.51347851,  0.9917736 ],\n",
              "        [-1.20407519,  0.15060845],\n",
              "        [ 2.27786725, -0.03870534],\n",
              "        [ 0.33593923,  0.45634355],\n",
              "        [ 0.16074363, -0.08492492],\n",
              "        [ 0.23960409, -0.51111213],\n",
              "        [ 0.29034236,  0.04480577],\n",
              "        [ 1.80808455,  0.1209317 ],\n",
              "        [-0.78902487,  0.32159544],\n",
              "        [ 1.37137467,  0.82364953],\n",
              "        [ 1.99941352,  0.06282332],\n",
              "        [ 0.08883746,  0.37055943],\n",
              "        [ 2.25266865,  0.49228851],\n",
              "        [-0.79105368,  0.25284027],\n",
              "        [ 0.48304515,  0.32875864],\n",
              "        [ 1.19367816,  0.36546473],\n",
              "        [-0.37364567,  0.76838013],\n",
              "        [ 1.63373201, -0.88114685],\n",
              "        [ 0.52813259,  0.0664585 ],\n",
              "        [ 0.92946292,  0.91661065],\n",
              "        [ 1.47907967, -1.05252921],\n",
              "        [ 0.82948858, -0.7991825 ],\n",
              "        [ 0.96290267, -0.78809655],\n",
              "        [ 2.21137624, -0.16405897],\n",
              "        [-0.38573081,  1.08433922],\n",
              "        [ 0.5262023 , -0.6084118 ],\n",
              "        [ 1.07159503,  0.23690563],\n",
              "        [ 0.95579085, -0.24144054],\n",
              "        [ 0.51205687,  0.92661868],\n",
              "        [-0.15539814,  1.23118368],\n",
              "        [-0.16454597,  0.44561538],\n",
              "        [-1.09751816,  0.10406354],\n",
              "        [ 0.85412555,  0.18115638],\n",
              "        [ 1.41875575, -0.78670021],\n",
              "        [-0.62100701,  0.54962105],\n",
              "        [-0.00755711,  1.28891933],\n",
              "        [ 1.62355279, -0.26553594],\n",
              "        [ 1.39915803, -0.5092919 ],\n",
              "        [ 1.14943342, -0.37843931],\n",
              "        [ 1.30007804, -0.74209869],\n",
              "        [-1.04100218,  0.44295714],\n",
              "        [ 0.89634119,  0.17273219],\n",
              "        [ 0.35470005,  0.62426518],\n",
              "        [-0.63738612,  0.30729689],\n",
              "        [ 1.85866117,  0.15991554],\n",
              "        [ 0.08354569,  0.90322592],\n",
              "        [ 0.79366367,  1.11985258],\n",
              "        [-0.90626987,  1.02113899],\n",
              "        [ 1.8825969 ,  0.44921976],\n",
              "        [-0.67532602,  0.13098643]]),\n",
              " array([1, 0, 1, 0, 0, 0, 1, 0, 0, 0, 1, 0, 0, 1, 1, 0, 0, 0, 1, 1, 0, 1,\n",
              "        0, 1, 0, 1, 0, 0, 1, 0, 0, 0, 0, 1, 1, 1, 1, 1, 1, 1, 1, 0, 1, 1,\n",
              "        1, 0, 1, 0, 0, 1, 0, 0, 1, 1, 1, 1, 1, 1, 0, 0, 1, 1, 1, 0, 0, 0,\n",
              "        0, 1, 1, 0, 1, 1, 1, 1, 0, 1, 0, 1, 0, 0, 0, 0, 1, 1, 0, 0, 1, 1,\n",
              "        0, 1, 0, 0, 0, 0, 1, 0, 0, 0, 1, 1]))"
            ]
          },
          "metadata": {},
          "execution_count": 83
        }
      ]
    },
    {
      "cell_type": "code",
      "source": [],
      "metadata": {
        "id": "w89yzdR2NlEm"
      },
      "execution_count": null,
      "outputs": []
    }
  ]
}