{
  "nbformat": 4,
  "nbformat_minor": 0,
  "metadata": {
    "colab": {
      "name": "Supervised Machine Learning Algorithms.ipynb",
      "provenance": [],
      "authorship_tag": "ABX9TyMOrdSTAk09Wb6PB08Os0PL",
      "include_colab_link": true
    },
    "kernelspec": {
      "name": "python3",
      "display_name": "Python 3"
    },
    "language_info": {
      "name": "python"
    }
  },
  "cells": [
    {
      "cell_type": "markdown",
      "metadata": {
        "id": "view-in-github",
        "colab_type": "text"
      },
      "source": [
        "<a href=\"https://colab.research.google.com/github/macorony/Machine_Learning_Basics/blob/main/Supervised_Machine_Learning_Algorithms.ipynb\" target=\"_parent\"><img src=\"https://colab.research.google.com/assets/colab-badge.svg\" alt=\"Open In Colab\"/></a>"
      ]
    },
    {
      "cell_type": "code",
      "source": [
        "# The concepts of supervised learning discussed in the <<Introduction to Machine Learning with Python>>"
      ],
      "metadata": {
        "id": "IvT2hnVY6tnm"
      },
      "execution_count": 1,
      "outputs": []
    },
    {
      "cell_type": "markdown",
      "source": [
        "Basic concepts of supervised learning discussed in the <b>Introduction to Machine Learning with Python<b> (https://www.oreilly.com/library/view/introduction-to-machine/9781449369880/)"
      ],
      "metadata": {
        "id": "l5y2fjWy7qYK"
      }
    },
    {
      "cell_type": "code",
      "execution_count": 2,
      "metadata": {
        "colab": {
          "base_uri": "https://localhost:8080/"
        },
        "id": "5pR-UdEALCg9",
        "outputId": "ebd0cb09-ea6a-4a41-c9bd-2b8f9cb8ac24"
      },
      "outputs": [
        {
          "output_type": "stream",
          "name": "stdout",
          "text": [
            "Collecting mglearn\n",
            "  Downloading mglearn-0.2.0-py2.py3-none-any.whl.metadata (628 bytes)\n",
            "Requirement already satisfied: numpy in /usr/local/lib/python3.10/dist-packages (from mglearn) (1.26.4)\n",
            "Requirement already satisfied: matplotlib in /usr/local/lib/python3.10/dist-packages (from mglearn) (3.7.1)\n",
            "Requirement already satisfied: scikit-learn in /usr/local/lib/python3.10/dist-packages (from mglearn) (1.3.2)\n",
            "Requirement already satisfied: pandas in /usr/local/lib/python3.10/dist-packages (from mglearn) (2.1.4)\n",
            "Requirement already satisfied: pillow in /usr/local/lib/python3.10/dist-packages (from mglearn) (9.4.0)\n",
            "Requirement already satisfied: cycler in /usr/local/lib/python3.10/dist-packages (from mglearn) (0.12.1)\n",
            "Requirement already satisfied: imageio in /usr/local/lib/python3.10/dist-packages (from mglearn) (2.34.2)\n",
            "Requirement already satisfied: joblib in /usr/local/lib/python3.10/dist-packages (from mglearn) (1.4.2)\n",
            "Requirement already satisfied: contourpy>=1.0.1 in /usr/local/lib/python3.10/dist-packages (from matplotlib->mglearn) (1.2.1)\n",
            "Requirement already satisfied: fonttools>=4.22.0 in /usr/local/lib/python3.10/dist-packages (from matplotlib->mglearn) (4.53.1)\n",
            "Requirement already satisfied: kiwisolver>=1.0.1 in /usr/local/lib/python3.10/dist-packages (from matplotlib->mglearn) (1.4.5)\n",
            "Requirement already satisfied: packaging>=20.0 in /usr/local/lib/python3.10/dist-packages (from matplotlib->mglearn) (24.1)\n",
            "Requirement already satisfied: pyparsing>=2.3.1 in /usr/local/lib/python3.10/dist-packages (from matplotlib->mglearn) (3.1.2)\n",
            "Requirement already satisfied: python-dateutil>=2.7 in /usr/local/lib/python3.10/dist-packages (from matplotlib->mglearn) (2.8.2)\n",
            "Requirement already satisfied: pytz>=2020.1 in /usr/local/lib/python3.10/dist-packages (from pandas->mglearn) (2024.1)\n",
            "Requirement already satisfied: tzdata>=2022.1 in /usr/local/lib/python3.10/dist-packages (from pandas->mglearn) (2024.1)\n",
            "Requirement already satisfied: scipy>=1.5.0 in /usr/local/lib/python3.10/dist-packages (from scikit-learn->mglearn) (1.13.1)\n",
            "Requirement already satisfied: threadpoolctl>=2.0.0 in /usr/local/lib/python3.10/dist-packages (from scikit-learn->mglearn) (3.5.0)\n",
            "Requirement already satisfied: six>=1.5 in /usr/local/lib/python3.10/dist-packages (from python-dateutil>=2.7->matplotlib->mglearn) (1.16.0)\n",
            "Downloading mglearn-0.2.0-py2.py3-none-any.whl (581 kB)\n",
            "\u001b[2K   \u001b[90m━━━━━━━━━━━━━━━━━━━━━━━━━━━━━━━━━━━━━━━━\u001b[0m \u001b[32m581.4/581.4 kB\u001b[0m \u001b[31m15.0 MB/s\u001b[0m eta \u001b[36m0:00:00\u001b[0m\n",
            "\u001b[?25hInstalling collected packages: mglearn\n",
            "Successfully installed mglearn-0.2.0\n"
          ]
        }
      ],
      "source": [
        "!pip install mglearn"
      ]
    },
    {
      "cell_type": "code",
      "source": [
        "import mglearn\n",
        "import pandas as pd\n",
        "import numpy as np\n",
        "import matplotlib.pyplot as plt\n",
        "%matplotlib inline\n",
        "import warnings\n",
        "warnings.filterwarnings(\"ignore\")\n",
        "from sklearn.model_selection import train_test_split\n",
        "from sklearn.neighbors import KNeighborsClassifier\n",
        "from sklearn.neighbors import KNeighborsRegressor"
      ],
      "metadata": {
        "id": "g2scjydQUoee"
      },
      "execution_count": 3,
      "outputs": []
    },
    {
      "cell_type": "markdown",
      "source": [
        "# Sample Datasets"
      ],
      "metadata": {
        "id": "W251FsGsbkix"
      }
    },
    {
      "cell_type": "code",
      "source": [
        "X, y = mglearn.datasets.make_forge()\n",
        "mglearn.discrete_scatter(X[:,0], X[:,1], y)\n",
        "plt.legend([\"Class 0\", \"Class 1\"], loc=4)\n",
        "plt.xlabel(\"First feature\")\n",
        "plt.ylabel(\"Second feature\")\n",
        "plt.show()\n",
        "\n"
      ],
      "metadata": {
        "colab": {
          "base_uri": "https://localhost:8080/",
          "height": 449
        },
        "id": "NVVv-ApYX-kR",
        "outputId": "9374de53-ad19-4040-a841-b12bad952b24"
      },
      "execution_count": 4,
      "outputs": [
        {
          "output_type": "display_data",
          "data": {
            "text/plain": [
              "<Figure size 640x480 with 1 Axes>"
            ],
            "image/png": "[encoded data removed]"
          },
          "metadata": {}
        }
      ]
    },
    {
      "cell_type": "code",
      "source": [
        "X, y = mglearn.datasets.make_wave(n_samples=40)\n",
        "plt.plot(X, y, 'o')\n",
        "plt.ylim(-3, 3)\n",
        "plt.xlabel('Feature')\n",
        "plt.ylabel('Target')\n",
        "plt.show()"
      ],
      "metadata": {
        "colab": {
          "base_uri": "https://localhost:8080/",
          "height": 455
        },
        "id": "mq9nKpKFZA7H",
        "outputId": "df82b154-d290-4773-c49d-c9cf006779d5"
      },
      "execution_count": 5,
      "outputs": [
        {
          "output_type": "display_data",
          "data": {
            "text/plain": [
              "<Figure size 640x480 with 1 Axes>"
            ],
            "image/png": "[encoded data removed]"
          },
          "metadata": {}
        }
      ]
    },
    {
      "cell_type": "code",
      "source": [
        "from sklearn.datasets import load_breast_cancer\n",
        "cancer = load_breast_cancer()\n",
        "print(f\"cancer.keys: {cancer.keys()}\")\n",
        "print(f\"Shape of cancer data: {cancer.data.shape}\")\n",
        "print(f\"{[n for n in zip(cancer.target_names, np.bincount(cancer.target))]}\")\n",
        "print(f\"Feature names: \\n{cancer.feature_names}\")"
      ],
      "metadata": {
        "colab": {
          "base_uri": "https://localhost:8080/"
        },
        "id": "Rc9_qjiWbQIH",
        "outputId": "7fc4d126-ee6f-4f31-ade5-d6a0b0195a88"
      },
      "execution_count": 6,
      "outputs": [
        {
          "output_type": "stream",
          "name": "stdout",
          "text": [
            "cancer.keys: dict_keys(['data', 'target', 'frame', 'target_names', 'DESCR', 'feature_names', 'filename', 'data_module'])\n",
            "Shape of cancer data: (569, 30)\n",
            "[('malignant', 212), ('benign', 357)]\n",
            "Feature names: \n",
            "['mean radius' 'mean texture' 'mean perimeter' 'mean area'\n",
            " 'mean smoothness' 'mean compactness' 'mean concavity'\n",
            " 'mean concave points' 'mean symmetry' 'mean fractal dimension'\n",
            " 'radius error' 'texture error' 'perimeter error' 'area error'\n",
            " 'smoothness error' 'compactness error' 'concavity error'\n",
            " 'concave points error' 'symmetry error' 'fractal dimension error'\n",
            " 'worst radius' 'worst texture' 'worst perimeter' 'worst area'\n",
            " 'worst smoothness' 'worst compactness' 'worst concavity'\n",
            " 'worst concave points' 'worst symmetry' 'worst fractal dimension']\n"
          ]
        }
      ]
    },
    {
      "cell_type": "code",
      "source": [
        "# from sklearn.datasets import load_boston\n",
        "# boston = load_boston()\n",
        "# print(f\"Data shape: {boston.data.shape}\")"
      ],
      "metadata": {
        "id": "SMGmsUKNdBB3"
      },
      "execution_count": 7,
      "outputs": []
    },
    {
      "cell_type": "markdown",
      "source": [
        "# K-Nearest Neighbors\n",
        "1. A supervised machnine learning used for classification and regression\n",
        "2. A given data point is determined by its surrounding points\n",
        "3. The key parameter K is to decide the number of nearby points."
      ],
      "metadata": {
        "id": "6rbOG_kaxX1f"
      }
    },
    {
      "cell_type": "code",
      "source": [
        "import matplotlib.pyplot as plt\n",
        "x = [4, 5, 10, 4,3,11,14,8,10,12]\n",
        "y = [21, 19, 24, 17, 16, 25, 24, 22, 21, 21]\n",
        "classes = [0, 0, 1, 0, 0, 1, 1, 0, 1, 1]\n",
        "plt.scatter(x, y, c=classes)\n",
        "plt.show()"
      ],
      "metadata": {
        "colab": {
          "base_uri": "https://localhost:8080/",
          "height": 430
        },
        "id": "m5t7FW36DA4W",
        "outputId": "133401ec-7d81-4b04-9762-bdbf2620fcfd"
      },
      "execution_count": 20,
      "outputs": [
        {
          "output_type": "display_data",
          "data": {
            "text/plain": [
              "<Figure size 640x480 with 1 Axes>"
            ],
            "image/png": "[encoded data removed]"
          },
          "metadata": {}
        }
      ]
    },
    {
      "cell_type": "code",
      "source": [
        "from sklearn.neighbors import KNeighborsClassifier\n",
        "data = list(zip(x, y))\n",
        "knn = KNeighborsClassifier(n_neighbors=3)\n",
        "knn.fit(data, classes)"
      ],
      "metadata": {
        "id": "Xqg2Fj7FDrKr",
        "outputId": "bf0553bd-31bd-46ae-a94e-11539f966b1c",
        "colab": {
          "base_uri": "https://localhost:8080/",
          "height": 75
        }
      },
      "execution_count": 21,
      "outputs": [
        {
          "output_type": "execute_result",
          "data": {
            "text/plain": [
              "KNeighborsClassifier(n_neighbors=3)"
            ],
            "text/html": [
              "<style>#sk-container-id-2 {color: black;}#sk-container-id-2 pre{padding: 0;}#sk-container-id-2 div.sk-toggleable {background-color: white;}#sk-container-id-2 label.sk-toggleable__label {cursor: pointer;display: block;width: 100%;margin-bottom: 0;padding: 0.3em;box-sizing: border-box;text-align: center;}#sk-container-id-2 label.sk-toggleable__label-arrow:before {content: \"▸\";float: left;margin-right: 0.25em;color: #696969;}#sk-container-id-2 label.sk-toggleable__label-arrow:hover:before {color: black;}#sk-container-id-2 div.sk-estimator:hover label.sk-toggleable__label-arrow:before {color: black;}#sk-container-id-2 div.sk-toggleable__content {max-height: 0;max-width: 0;overflow: hidden;text-align: left;background-color: #f0f8ff;}#sk-container-id-2 div.sk-toggleable__content pre {margin: 0.2em;color: black;border-radius: 0.25em;background-color: #f0f8ff;}#sk-container-id-2 input.sk-toggleable__control:checked~div.sk-toggleable__content {max-height: 200px;max-width: 100%;overflow: auto;}#sk-container-id-2 input.sk-toggleable__control:checked~label.sk-toggleable__label-arrow:before {content: \"▾\";}#sk-container-id-2 div.sk-estimator input.sk-toggleable__control:checked~label.sk-toggleable__label {background-color: #d4ebff;}#sk-container-id-2 div.sk-label input.sk-toggleable__control:checked~label.sk-toggleable__label {background-color: #d4ebff;}#sk-container-id-2 input.sk-hidden--visually {border: 0;clip: rect(1px 1px 1px 1px);clip: rect(1px, 1px, 1px, 1px);height: 1px;margin: -1px;overflow: hidden;padding: 0;position: absolute;width: 1px;}#sk-container-id-2 div.sk-estimator {font-family: monospace;background-color: #f0f8ff;border: 1px dotted black;border-radius: 0.25em;box-sizing: border-box;margin-bottom: 0.5em;}#sk-container-id-2 div.sk-estimator:hover {background-color: #d4ebff;}#sk-container-id-2 div.sk-parallel-item::after {content: \"\";width: 100%;border-bottom: 1px solid gray;flex-grow: 1;}#sk-container-id-2 div.sk-label:hover label.sk-toggleable__label {background-color: #d4ebff;}#sk-container-id-2 div.sk-serial::before {content: \"\";position: absolute;border-left: 1px solid gray;box-sizing: border-box;top: 0;bottom: 0;left: 50%;z-index: 0;}#sk-container-id-2 div.sk-serial {display: flex;flex-direction: column;align-items: center;background-color: white;padding-right: 0.2em;padding-left: 0.2em;position: relative;}#sk-container-id-2 div.sk-item {position: relative;z-index: 1;}#sk-container-id-2 div.sk-parallel {display: flex;align-items: stretch;justify-content: center;background-color: white;position: relative;}#sk-container-id-2 div.sk-item::before, #sk-container-id-2 div.sk-parallel-item::before {content: \"\";position: absolute;border-left: 1px solid gray;box-sizing: border-box;top: 0;bottom: 0;left: 50%;z-index: -1;}#sk-container-id-2 div.sk-parallel-item {display: flex;flex-direction: column;z-index: 1;position: relative;background-color: white;}#sk-container-id-2 div.sk-parallel-item:first-child::after {align-self: flex-end;width: 50%;}#sk-container-id-2 div.sk-parallel-item:last-child::after {align-self: flex-start;width: 50%;}#sk-container-id-2 div.sk-parallel-item:only-child::after {width: 0;}#sk-container-id-2 div.sk-dashed-wrapped {border: 1px dashed gray;margin: 0 0.4em 0.5em 0.4em;box-sizing: border-box;padding-bottom: 0.4em;background-color: white;}#sk-container-id-2 div.sk-label label {font-family: monospace;font-weight: bold;display: inline-block;line-height: 1.2em;}#sk-container-id-2 div.sk-label-container {text-align: center;}#sk-container-id-2 div.sk-container {/* jupyter's `normalize.less` sets `[hidden] { display: none; }` but bootstrap.min.css set `[hidden] { display: none !important; }` so we also need the `!important` here to be able to override the default hidden behavior on the sphinx rendered scikit-learn.org. See: https://github.com/scikit-learn/scikit-learn/issues/21755 */display: inline-block !important;position: relative;}#sk-container-id-2 div.sk-text-repr-fallback {display: none;}</style><div id=\"sk-container-id-2\" class=\"sk-top-container\"><div class=\"sk-text-repr-fallback\"><pre>KNeighborsClassifier(n_neighbors=3)</pre><b>In a Jupyter environment, please rerun this cell to show the HTML representation or trust the notebook. <br />On GitHub, the HTML representation is unable to render, please try loading this page with nbviewer.org.</b></div><div class=\"sk-container\" hidden><div class=\"sk-item\"><div class=\"sk-estimator sk-toggleable\"><input class=\"sk-toggleable__control sk-hidden--visually\" id=\"sk-estimator-id-2\" type=\"checkbox\" checked><label for=\"sk-estimator-id-2\" class=\"sk-toggleable__label sk-toggleable__label-arrow\">KNeighborsClassifier</label><div class=\"sk-toggleable__content\"><pre>KNeighborsClassifier(n_neighbors=3)</pre></div></div></div></div></div>"
            ]
          },
          "metadata": {},
          "execution_count": 21
        }
      ]
    },
    {
      "cell_type": "code",
      "source": [
        "new_x = 8\n",
        "new_y = 21\n",
        "new_data = [(new_x, new_y)]\n",
        "\n",
        "prediction = knn.predict(new_data)\n",
        "print(f\"Prediction: {prediction}\")"
      ],
      "metadata": {
        "id": "tJEPsGL6D__7",
        "outputId": "1ed2f159-8e33-46c3-cfdd-8c2836c01345",
        "colab": {
          "base_uri": "https://localhost:8080/"
        }
      },
      "execution_count": 22,
      "outputs": [
        {
          "output_type": "stream",
          "name": "stdout",
          "text": [
            "Prediction: [0]\n"
          ]
        }
      ]
    },
    {
      "cell_type": "code",
      "source": [
        "plt.scatter(x, y, c=classes)\n",
        "plt.scatter(new_x, new_y, c=[0])\n",
        "plt.text(x=new_x-1, y=new_y-1, s=f\"new point, class: 0\")\n",
        "plt.show()"
      ],
      "metadata": {
        "id": "lRY4U09kShfa",
        "outputId": "568e0264-a19f-4a11-a048-8bf028ba0af7",
        "colab": {
          "base_uri": "https://localhost:8080/",
          "height": 430
        }
      },
      "execution_count": 23,
      "outputs": [
        {
          "output_type": "display_data",
          "data": {
            "text/plain": [
              "<Figure size 640x480 with 1 Axes>"
            ],
            "image/png": "[encoded data removed]"
          },
          "metadata": {}
        }
      ]
    },
    {
      "cell_type": "code",
      "source": [
        "X = [[0], [1], [2], [3]]\n",
        "y = [0, 0, 1, 1]\n",
        "from sklearn.neighbors import KNeighborsClassifier\n",
        "knn = KNeighborsClassifier(n_neighbors=3)\n",
        "knn.fit(X, y)\n",
        "print(f\"Prediction: {knn.predict([[2.5]])}\")\n",
        "print(f\"proba: {knn.predict_proba([[2.5]])}\")\n",
        "print(f\"Accuracy: {knn.score(X, y)}\")"
      ],
      "metadata": {
        "id": "P6wQHruYe5Fj",
        "outputId": "cd1bd13e-4b9e-414b-ac5b-0ff9edd9dcb3",
        "colab": {
          "base_uri": "https://localhost:8080/"
        }
      },
      "execution_count": 16,
      "outputs": [
        {
          "output_type": "stream",
          "name": "stdout",
          "text": [
            "Prediction: [1]\n",
            "proba: [[0.33333333 0.66666667]]\n",
            "Accuracy: 1.0\n"
          ]
        }
      ]
    },
    {
      "cell_type": "code",
      "source": [
        "from sklearn.neighbors import KNeighborsClassifier\n",
        "X, y = mglearn.datasets.make_forge()\n",
        "X_train, X_test, y_train, y_test = train_test_split(X, y, random_state=0)"
      ],
      "metadata": {
        "id": "qlNCQA_DqvO6"
      },
      "execution_count": null,
      "outputs": []
    },
    {
      "cell_type": "code",
      "source": [
        "knn = KNeighborsClassifier(n_neighbors=5, weights='distance', algorithm = 'auto', n_jobs=-1)\n",
        "knn.fit(X_train, y_train)"
      ],
      "metadata": {
        "colab": {
          "base_uri": "https://localhost:8080/",
          "height": 75
        },
        "id": "jKQYA-CV_acG",
        "outputId": "7c23b082-26fe-4c76-d366-9c48af6e8d4a"
      },
      "execution_count": null,
      "outputs": [
        {
          "output_type": "execute_result",
          "data": {
            "text/plain": [
              "KNeighborsClassifier(n_jobs=-1, weights='distance')"
            ],
            "text/html": [
              "<style>#sk-container-id-3 {color: black;}#sk-container-id-3 pre{padding: 0;}#sk-container-id-3 div.sk-toggleable {background-color: white;}#sk-container-id-3 label.sk-toggleable__label {cursor: pointer;display: block;width: 100%;margin-bottom: 0;padding: 0.3em;box-sizing: border-box;text-align: center;}#sk-container-id-3 label.sk-toggleable__label-arrow:before {content: \"▸\";float: left;margin-right: 0.25em;color: #696969;}#sk-container-id-3 label.sk-toggleable__label-arrow:hover:before {color: black;}#sk-container-id-3 div.sk-estimator:hover label.sk-toggleable__label-arrow:before {color: black;}#sk-container-id-3 div.sk-toggleable__content {max-height: 0;max-width: 0;overflow: hidden;text-align: left;background-color: #f0f8ff;}#sk-container-id-3 div.sk-toggleable__content pre {margin: 0.2em;color: black;border-radius: 0.25em;background-color: #f0f8ff;}#sk-container-id-3 input.sk-toggleable__control:checked~div.sk-toggleable__content {max-height: 200px;max-width: 100%;overflow: auto;}#sk-container-id-3 input.sk-toggleable__control:checked~label.sk-toggleable__label-arrow:before {content: \"▾\";}#sk-container-id-3 div.sk-estimator input.sk-toggleable__control:checked~label.sk-toggleable__label {background-color: #d4ebff;}#sk-container-id-3 div.sk-label input.sk-toggleable__control:checked~label.sk-toggleable__label {background-color: #d4ebff;}#sk-container-id-3 input.sk-hidden--visually {border: 0;clip: rect(1px 1px 1px 1px);clip: rect(1px, 1px, 1px, 1px);height: 1px;margin: -1px;overflow: hidden;padding: 0;position: absolute;width: 1px;}#sk-container-id-3 div.sk-estimator {font-family: monospace;background-color: #f0f8ff;border: 1px dotted black;border-radius: 0.25em;box-sizing: border-box;margin-bottom: 0.5em;}#sk-container-id-3 div.sk-estimator:hover {background-color: #d4ebff;}#sk-container-id-3 div.sk-parallel-item::after {content: \"\";width: 100%;border-bottom: 1px solid gray;flex-grow: 1;}#sk-container-id-3 div.sk-label:hover label.sk-toggleable__label {background-color: #d4ebff;}#sk-container-id-3 div.sk-serial::before {content: \"\";position: absolute;border-left: 1px solid gray;box-sizing: border-box;top: 0;bottom: 0;left: 50%;z-index: 0;}#sk-container-id-3 div.sk-serial {display: flex;flex-direction: column;align-items: center;background-color: white;padding-right: 0.2em;padding-left: 0.2em;position: relative;}#sk-container-id-3 div.sk-item {position: relative;z-index: 1;}#sk-container-id-3 div.sk-parallel {display: flex;align-items: stretch;justify-content: center;background-color: white;position: relative;}#sk-container-id-3 div.sk-item::before, #sk-container-id-3 div.sk-parallel-item::before {content: \"\";position: absolute;border-left: 1px solid gray;box-sizing: border-box;top: 0;bottom: 0;left: 50%;z-index: -1;}#sk-container-id-3 div.sk-parallel-item {display: flex;flex-direction: column;z-index: 1;position: relative;background-color: white;}#sk-container-id-3 div.sk-parallel-item:first-child::after {align-self: flex-end;width: 50%;}#sk-container-id-3 div.sk-parallel-item:last-child::after {align-self: flex-start;width: 50%;}#sk-container-id-3 div.sk-parallel-item:only-child::after {width: 0;}#sk-container-id-3 div.sk-dashed-wrapped {border: 1px dashed gray;margin: 0 0.4em 0.5em 0.4em;box-sizing: border-box;padding-bottom: 0.4em;background-color: white;}#sk-container-id-3 div.sk-label label {font-family: monospace;font-weight: bold;display: inline-block;line-height: 1.2em;}#sk-container-id-3 div.sk-label-container {text-align: center;}#sk-container-id-3 div.sk-container {/* jupyter's `normalize.less` sets `[hidden] { display: none; }` but bootstrap.min.css set `[hidden] { display: none !important; }` so we also need the `!important` here to be able to override the default hidden behavior on the sphinx rendered scikit-learn.org. See: https://github.com/scikit-learn/scikit-learn/issues/21755 */display: inline-block !important;position: relative;}#sk-container-id-3 div.sk-text-repr-fallback {display: none;}</style><div id=\"sk-container-id-3\" class=\"sk-top-container\"><div class=\"sk-text-repr-fallback\"><pre>KNeighborsClassifier(n_jobs=-1, weights=&#x27;distance&#x27;)</pre><b>In a Jupyter environment, please rerun this cell to show the HTML representation or trust the notebook. <br />On GitHub, the HTML representation is unable to render, please try loading this page with nbviewer.org.</b></div><div class=\"sk-container\" hidden><div class=\"sk-item\"><div class=\"sk-estimator sk-toggleable\"><input class=\"sk-toggleable__control sk-hidden--visually\" id=\"sk-estimator-id-3\" type=\"checkbox\" checked><label for=\"sk-estimator-id-3\" class=\"sk-toggleable__label sk-toggleable__label-arrow\">KNeighborsClassifier</label><div class=\"sk-toggleable__content\"><pre>KNeighborsClassifier(n_jobs=-1, weights=&#x27;distance&#x27;)</pre></div></div></div></div></div>"
            ]
          },
          "metadata": {},
          "execution_count": 20
        }
      ]
    },
    {
      "cell_type": "code",
      "source": [
        "x_min, x_max = X_train[:,0].min(), X_train[:,0].max()\n",
        "y_min, y_max = X_train[:,1].min(), X_train[:,1].max()"
      ],
      "metadata": {
        "id": "E1hX--yLTIa2"
      },
      "execution_count": null,
      "outputs": []
    },
    {
      "cell_type": "code",
      "source": [
        "xx, yy = np.meshgrid(np.arange(x_min, x_max, 0.02), np.arange(y_min, y_max, 0.02))\n",
        "z = knn.predict(np.c_[xx.ravel(), yy.ravel()]).reshape(xx.shape)"
      ],
      "metadata": {
        "id": "0wLj9CyNW3Ja"
      },
      "execution_count": null,
      "outputs": []
    },
    {
      "cell_type": "code",
      "source": [
        "xx.shape"
      ],
      "metadata": {
        "id": "eriAqniWW_Cu",
        "outputId": "b44af0f4-db4e-4357-96bb-36c75ce58c67",
        "colab": {
          "base_uri": "https://localhost:8080/"
        }
      },
      "execution_count": null,
      "outputs": [
        {
          "output_type": "execute_result",
          "data": {
            "text/plain": [
              "(307, 197)"
            ]
          },
          "metadata": {},
          "execution_count": 26
        }
      ]
    },
    {
      "cell_type": "code",
      "source": [
        "z"
      ],
      "metadata": {
        "colab": {
          "base_uri": "https://localhost:8080/"
        },
        "id": "GGq7G_HESHqc",
        "outputId": "99bf162e-5972-48e0-8ec5-01dcc3ba4deb"
      },
      "execution_count": null,
      "outputs": [
        {
          "output_type": "execute_result",
          "data": {
            "text/plain": [
              "array([[0, 0, 0, ..., 0, 0, 0],\n",
              "       [0, 0, 0, ..., 0, 0, 0],\n",
              "       [0, 0, 0, ..., 0, 0, 0],\n",
              "       ...,\n",
              "       [1, 1, 1, ..., 1, 1, 1],\n",
              "       [1, 1, 1, ..., 1, 1, 1],\n",
              "       [1, 1, 1, ..., 1, 1, 1]])"
            ]
          },
          "metadata": {},
          "execution_count": 33
        }
      ]
    },
    {
      "cell_type": "code",
      "source": [
        "plt.contourf(xx, yy, z, cmap=plt.cm.RdYlBu)"
      ],
      "metadata": {
        "colab": {
          "base_uri": "https://localhost:8080/",
          "height": 282
        },
        "id": "GP46KgFbobTm",
        "outputId": "134c8fe9-f71b-4277-b24b-acfaba6ab810"
      },
      "execution_count": null,
      "outputs": [
        {
          "output_type": "execute_result",
          "data": {
            "text/plain": [
              "<matplotlib.contour.QuadContourSet at 0x7f4dae703990>"
            ]
          },
          "metadata": {},
          "execution_count": 92
        },
        {
          "output_type": "display_data",
          "data": {
            "text/plain": [
              "<Figure size 432x288 with 1 Axes>"
            ],
            "image/png": "[encoded data removed]"
          },
          "metadata": {
            "needs_background": "light"
          }
        }
      ]
    },
    {
      "cell_type": "code",
      "source": [
        "x_min, x_max = X[:,0].min(), X[:,0].max()\n",
        "y_min, y_max = X[:,1].min(), X[:,1].max()\n",
        "step=0.01\n",
        "xx, yy = np.meshgrid(np.arange(x_min, x_max, step), np.arange(y_min, y_max, step))"
      ],
      "metadata": {
        "id": "Gex7mh75NQeb"
      },
      "execution_count": null,
      "outputs": []
    },
    {
      "cell_type": "code",
      "source": [
        "fig, axes = plt.subplots(1, 3, figsize=(10,3))\n",
        "for neighbor, ax in zip([1,5,9], axes.ravel()):\n",
        "  knn = KNeighborsClassifier(n_neighbors=neighbor, weights='distance', n_jobs=-1).fit(X, y)\n",
        "  zz = knn.predict(np.c_[xx.ravel(), yy.ravel()]).reshape(xx.shape)\n",
        "  ax.contourf(xx, yy, zz, cmap=plt.cm.RdYlBu)\n",
        "  ax.scatter(X[:,0], X[:,1], c=y)\n",
        "  ax.set_title('{} neighbor(s)'.format(neighbor))\n"
      ],
      "metadata": {
        "colab": {
          "base_uri": "https://localhost:8080/",
          "height": 227
        },
        "id": "MIEHOhR-_ahX",
        "outputId": "32f06fc1-a055-4fae-fb9c-34d59164bc06"
      },
      "execution_count": null,
      "outputs": [
        {
          "output_type": "display_data",
          "data": {
            "text/plain": [
              "<Figure size 720x216 with 3 Axes>"
            ],
            "image/png": "[encoded data removed]"
          },
          "metadata": {
            "needs_background": "light"
          }
        }
      ]
    },
    {
      "cell_type": "code",
      "source": [
        "from sklearn.datasets import load_breast_cancer"
      ],
      "metadata": {
        "id": "7wJ6MjHXMk-4"
      },
      "execution_count": null,
      "outputs": []
    },
    {
      "cell_type": "code",
      "source": [
        "cancer = load_breast_cancer()\n",
        "X_train, X_test, y_train, y_test = train_test_split(cancer.data, cancer.target, stratify=cancer.target, random_state=0)"
      ],
      "metadata": {
        "id": "u5NRuugXaX-M"
      },
      "execution_count": null,
      "outputs": []
    },
    {
      "cell_type": "code",
      "source": [
        "train_accuracy = []\n",
        "test_accuracy = []\n",
        "neighbors = range(1,20)"
      ],
      "metadata": {
        "id": "vbaiccgdaYFZ"
      },
      "execution_count": null,
      "outputs": []
    },
    {
      "cell_type": "code",
      "source": [
        "neighbors"
      ],
      "metadata": {
        "colab": {
          "base_uri": "https://localhost:8080/"
        },
        "id": "7TTnDuQFbf5J",
        "outputId": "9fab213e-5484-4399-ca95-8a088a21d44f"
      },
      "execution_count": null,
      "outputs": [
        {
          "output_type": "execute_result",
          "data": {
            "text/plain": [
              "range(1, 20)"
            ]
          },
          "metadata": {},
          "execution_count": 98
        }
      ]
    },
    {
      "cell_type": "code",
      "source": [
        "for neighbor in neighbors:\n",
        "  knn = KNeighborsClassifier(n_neighbors=neighbor, weights='distance', n_jobs=-1).fit(X_train, y_train)\n",
        "  train_accuracy.append(knn.score(X_train, y_train))\n",
        "  test_accuracy.append(knn.score(X_test, y_test))"
      ],
      "metadata": {
        "id": "XGojQMjhaYH6"
      },
      "execution_count": null,
      "outputs": []
    },
    {
      "cell_type": "code",
      "source": [
        "plt.figure(figsize=(10,6))\n",
        "plt.plot(neighbors, train_accuracy, label='train accuracy')\n",
        "plt.plot(neighbors, test_accuracy, label='test accuracy')\n",
        "plt.ylabel('accuracy')\n",
        "plt.xlabel('numbers of neighbors')\n",
        "plt.legend()\n",
        "plt.show()"
      ],
      "metadata": {
        "colab": {
          "base_uri": "https://localhost:8080/",
          "height": 388
        },
        "id": "VuKLhlQSd6lb",
        "outputId": "b67c5d3f-2b8d-43cb-a592-63a1165eb42d"
      },
      "execution_count": null,
      "outputs": [
        {
          "output_type": "display_data",
          "data": {
            "text/plain": [
              "<Figure size 720x432 with 1 Axes>"
            ],
            "image/png": "[encoded data removed]"
          },
          "metadata": {
            "needs_background": "light"
          }
        }
      ]
    },
    {
      "cell_type": "code",
      "source": [
        "import matplotlib.pyplot as plt\n",
        "import numpy as np\n",
        "from matplotlib.colors import ListedColormap\n",
        "from sklearn.datasets import make_circles, make_classification, make_moons\n",
        "from sklearn.discriminant_analysis import QuadraticDiscriminantAnalysis\n",
        "from sklearn.ensemble import AdaBoostClassifier, RandomForestClassifier\n",
        "from sklearn.gaussian_process import GaussianProcessClassifier\n",
        "from sklearn.gaussian_process.kernels import RBF\n",
        "from sklearn.inspection import DecisionBoundaryDisplay\n",
        "from sklearn.model_selection import train_test_split\n",
        "from sklearn.naive_bayes import GaussianNB\n",
        "from sklearn.neighbors import KNeighborsClassifier\n",
        "from sklearn.neural_network import MLPClassifier\n",
        "from sklearn.pipeline import make_pipeline\n",
        "from sklearn.svm import SVC\n",
        "from sklearn.tree import DecisionTreeClassifier\n",
        "from sklearn.neighbors import KNeighborsClassifier"
      ],
      "metadata": {
        "id": "vPOTrOWumHhK"
      },
      "execution_count": 25,
      "outputs": []
    },
    {
      "cell_type": "code",
      "source": [
        "names = [\"Nearest Neighbours\", \"Linear SVM\", \"RBF SVM\",\n",
        "         \"Gaussian Process\", \"Decision Tree\", \"Random Forest\",\n",
        "         \"Neural Net\", \"AdaBoost\", \"Naive Bayes\", \"QDA\"]\n",
        "\n",
        "X, y = make_classification(n_features=2, n_redundant=0, n_informative=2,\n",
        "                           random_state=1, n_clusters_per_class=1)\n",
        "rng = np.random.RandomState(2)\n",
        "X += 2 * rng.uniform(size=X.shape)\n",
        "linearly_separable = (X, y)\n"
      ],
      "metadata": {
        "id": "S71FJ3dJo-Ru"
      },
      "execution_count": 40,
      "outputs": []
    },
    {
      "cell_type": "code",
      "source": [
        "datasets = [make_moons(noise=0.3, random_state=0),\n",
        "            make_circles(noise=0.2, factor=0.5, random_state=1),\n",
        "            linearly_separable]\n",
        ""
      ],
      "metadata": {
        "id": "5NENYlcvtEsa"
      },
      "execution_count": 44,
      "outputs": []
    },
    {
      "cell_type": "code",
      "source": [
        "figure = plt.figure(figsize=(27, 9))\n",
        "i = 1\n",
        "for ds_cnt, ds in enumerate(datasets):\n",
        "  X, y = ds\n",
        "  X_train, X_test, y_train, y_test = train_test_split(X, y, test_size=0.4, random_state=1)\n",
        "  x_min, x_max = X[:,0].min() - .5, X[:,0].max() + .5\n",
        "  y_min, y_max = X[:,1].min() - .5, X[:,1].max() + .5\n",
        "\n",
        "  cm = plt.cm.RdBu\n",
        "  cm_bright = ListedColormap(['#FF0000', '#0000FF'])\n",
        "  ax = plt.subplot(len(datasets), len(names), i)\n",
        "  if ds_cnt == 0:\n",
        "    ax.set_title(\"Input data\")\n",
        "  ax.scatter(X_train[:,0], X_train[:,1], c=y_train, cmap=cm_bright, edgecolors='k')\n",
        "  ax.scatter(X_test[:,0], X_test[:, 1], c=y_test, cmap=cm_bright, alpha=0.6, edgecolors='k')\n",
        "  ax.set_xlim(x_min, x_max)\n",
        "  ax.set_ylim(y_min, y_max)\n",
        "  ax.set_xticks(())\n",
        "  ax.set_yticks(())\n",
        "  i += 1\n",
        "\n",
        "\n",
        "\n"
      ],
      "metadata": {
        "id": "ovoku4GvuTE0",
        "outputId": "bc30c2d1-4dec-4389-a28a-fe497bff2f56",
        "colab": {
          "base_uri": "https://localhost:8080/",
          "height": 34
        }
      },
      "execution_count": 50,
      "outputs": [
        {
          "output_type": "display_data",
          "data": {
            "text/plain": [
              "<Figure size 2700x900 with 0 Axes>"
            ]
          },
          "metadata": {}
        }
      ]
    },
    {
      "cell_type": "code",
      "source": [
        "plt.cm.RdBu_r"
      ],
      "metadata": {
        "id": "VY4xiCRSwv02",
        "outputId": "0a20ae36-ff9a-4509-c219-1e7a0e73fb0f",
        "colab": {
          "base_uri": "https://localhost:8080/",
          "height": 122
        }
      },
      "execution_count": 62,
      "outputs": [
        {
          "output_type": "execute_result",
          "data": {
            "text/plain": [
              "<matplotlib.colors.LinearSegmentedColormap at 0x7e80e405fa60>"
            ],
            "text/html": [
              "<div style=\"vertical-align: middle;\"><strong>RdBu_r</strong> </div><div class=\"cmap\"><img alt=\"RdBu_r colormap\" title=\"RdBu_r\" style=\"border: 1px solid #555;\" src=\"data:image/png;base64,iVBORw0KGgoAAAANSUhEUgAAAgAAAABACAYAAABsv8+/AAAAFXRFWHRUaXRsZQBSZEJ1X3IgY29sb3JtYXAIzTWIAAAAG3RFWHREZXNjcmlwdGlvbgBSZEJ1X3IgY29sb3JtYXBBWi1sAAAAMHRFWHRBdXRob3IATWF0cGxvdGxpYiB2My43LjEsIGh0dHBzOi8vbWF0cGxvdGxpYi5vcmcqr/hNAAAAMnRFWHRTb2Z0d2FyZQBNYXRwbG90bGliIHYzLjcuMSwgaHR0cHM6Ly9tYXRwbG90bGliLm9yZwQJZ2oAAAIlSURBVHic7dZLbqQwAEVRA+n99Jay/zUAPWjjyIBTH9XsnTNB/hZVkaI7/fn7vZdSyjTP5f9zee+59OP57fP37/H8fXPdP9Vx/5ynY1z6+fP+aTB/uae/bz6df/v++lzqvmX+zPPr5XPzZ+47vm/7PqUft/XSnRutn3+fdu70uy7H/vM9D9dP953+DvVYmdr5Oi79+7T1tn+0PvXjdl//fk+vjz6v7e/HZd9un9Mx3kbr+6/nL/cM7nt0z+X84D32da33r3X5GG/PzZ/OH+s/+5+c/9B77OvxOVtd3m7n98H8Zf/l3NrvG933sffY63jv9rXxNphv5/p7fu5/tO9+fnhuu5/f6nydLuv+2rj+lV8+9+nx8R7H/wkAIIgAAIBAAgAAAgkAAAgkAAAgkAAAgEACAAACCQAACCQAACCQAACAQAIAAAIJAAAIJAAAIJAAAIBAAgAAAgkAAAgkAAAgkAAAgEACAAACCQAACCQAACCQAACAQAIAAAIJAAAIJAAAIJAAAIBAAgAAAgkAAAgkAAAgkAAAgEACAAACCQAACCQAACCQAACAQAIAAAIJAAAIJAAAIJAAAIBAAgAAAgkAAAgkAAAgkAAAgEACAAACCQAACCQAACCQAACAQAIAAAIJAAAIJAAAIJAAAIBAAgAAAgkAAAgkAAAgkAAAgEACAAACCQAACCQAACCQAACAQAIAAAIJAAAIJAAAIJAAAIBAAgAAAv0DMHhGFDOuJhgAAAAASUVORK5CYII=\"></div><div style=\"vertical-align: middle; max-width: 514px; display: flex; justify-content: space-between;\"><div style=\"float: left;\"><div title=\"#053061ff\" style=\"display: inline-block; width: 1em; height: 1em; margin: 0; vertical-align: middle; border: 1px solid #555; background-color: #053061ff;\"></div> under</div><div style=\"margin: 0 auto; display: inline-block;\">bad <div title=\"#00000000\" style=\"display: inline-block; width: 1em; height: 1em; margin: 0; vertical-align: middle; border: 1px solid #555; background-color: #00000000;\"></div></div><div style=\"float: right;\">over <div title=\"#67001fff\" style=\"display: inline-block; width: 1em; height: 1em; margin: 0; vertical-align: middle; border: 1px solid #555; background-color: #67001fff;\"></div></div>"
            ],
            "image/png": "[encoded data removed]"
          },
          "metadata": {},
          "execution_count": 62
        }
      ]
    },
    {
      "cell_type": "code",
      "source": [
        "linearly_separable"
      ],
      "metadata": {
        "id": "fK6PzFIzsJew",
        "outputId": "0e735a7f-9e0a-4d7b-b152-3a58927094ae",
        "colab": {
          "base_uri": "https://localhost:8080/"
        }
      },
      "execution_count": 39,
      "outputs": [
        {
          "output_type": "execute_result",
          "data": {
            "text/plain": [
              "(array([[-0.17749658,  0.93049627],\n",
              "        [ 1.97742406,  1.76615529],\n",
              "        [ 1.80002379,  1.7003428 ],\n",
              "        [-0.77083686,  2.35916348],\n",
              "        [-0.30800901,  1.59406316],\n",
              "        [ 0.61472141,  2.43489824],\n",
              "        [ 1.0909431 ,  2.21663402],\n",
              "        [-0.83488954,  2.35868875],\n",
              "        [ 2.47946499,  1.33418967],\n",
              "        [ 1.19926597,  1.82681392],\n",
              "        [ 2.18506184,  0.8226875 ],\n",
              "        [ 1.68423203,  1.0411311 ],\n",
              "        [ 1.14621135,  2.07048527],\n",
              "        [ 1.35596945,  0.56802498],\n",
              "        [ 1.38520748,  1.82607238],\n",
              "        [ 1.86729217,  1.18692699],\n",
              "        [ 0.31227376,  2.24605353],\n",
              "        [-0.08183484,  1.70065511],\n",
              "        [ 0.90484472,  2.60683016],\n",
              "        [-0.4358609 ,  2.0151414 ],\n",
              "        [ 0.81441196,  2.13546784],\n",
              "        [ 3.10874312,  2.26786504],\n",
              "        [-0.25574217,  1.71281146],\n",
              "        [ 1.88663027,  2.72089513],\n",
              "        [ 2.29503547,  3.89267759],\n",
              "        [-0.11415626,  0.85593357],\n",
              "        [ 1.69703537,  3.47717799],\n",
              "        [ 1.83855775,  0.92667213],\n",
              "        [ 1.60298807,  1.3018436 ],\n",
              "        [ 1.13803215,  2.82955007],\n",
              "        [ 0.57002738,  1.82202469],\n",
              "        [ 0.25130172,  1.32225048],\n",
              "        [-0.39833078,  1.984345  ],\n",
              "        [ 1.6291326 ,  0.88168182],\n",
              "        [ 3.10503585,  1.74000633],\n",
              "        [-0.00566874,  1.12039041],\n",
              "        [ 1.36866557,  2.13964438],\n",
              "        [ 2.69839961,  3.54932382],\n",
              "        [ 2.00170838,  1.09862314],\n",
              "        [ 2.43627708,  1.43769476],\n",
              "        [-0.30996938,  0.91256444],\n",
              "        [ 0.08528148,  1.72286096],\n",
              "        [ 2.06235803,  1.60351529],\n",
              "        [ 1.61026984,  2.06899308],\n",
              "        [ 1.39875914,  0.69295034],\n",
              "        [ 1.68417195,  1.05499076],\n",
              "        [ 0.6032637 ,  2.18625056],\n",
              "        [-0.80090405,  1.89873999],\n",
              "        [ 2.28622906,  2.00485199],\n",
              "        [-1.08107738,  2.77507784],\n",
              "        [ 0.6731465 ,  1.08374453],\n",
              "        [ 2.96970576,  2.12322913],\n",
              "        [ 0.67950668,  2.09864274],\n",
              "        [-0.44781177,  3.18420372],\n",
              "        [-0.50033854,  2.02105531],\n",
              "        [ 1.85307118,  3.66612496],\n",
              "        [ 1.72186424,  1.78055874],\n",
              "        [ 2.25033483,  3.12143112],\n",
              "        [ 0.31356908,  1.35127949],\n",
              "        [-0.28410691,  1.85727304],\n",
              "        [ 2.12915656,  2.58463127],\n",
              "        [ 1.5764227 ,  2.01987282],\n",
              "        [-1.07819549,  1.40147405],\n",
              "        [ 1.19768119,  2.40249075],\n",
              "        [ 1.37690112,  1.14985842],\n",
              "        [-1.66006488,  1.46313474],\n",
              "        [ 1.24390011,  1.46004628],\n",
              "        [ 1.87922305,  1.72262314],\n",
              "        [ 2.90850791,  2.94159145],\n",
              "        [-0.48122613,  1.79143762],\n",
              "        [ 2.4374304 ,  1.34535331],\n",
              "        [ 2.56579874,  0.99334358],\n",
              "        [ 2.44899241,  2.49072727],\n",
              "        [ 0.46034247,  0.68402612],\n",
              "        [-0.39068268,  2.13223301],\n",
              "        [-1.26676594,  1.15606381],\n",
              "        [ 1.41882694,  2.57154527],\n",
              "        [-0.56760436,  0.99010229],\n",
              "        [-1.80173745,  1.23149132],\n",
              "        [ 0.18035906,  1.25587797],\n",
              "        [ 2.85271766,  1.84520561],\n",
              "        [ 1.84588723,  1.15083733],\n",
              "        [ 2.2332857 ,  3.1528139 ],\n",
              "        [-0.55018044,  1.08169147],\n",
              "        [-0.79089021,  1.65085521],\n",
              "        [-0.13199329,  1.94007796],\n",
              "        [ 0.70257257,  1.35701296],\n",
              "        [ 0.27672155,  2.67298668],\n",
              "        [ 0.61021587,  2.1651486 ],\n",
              "        [-0.53000368,  2.01943164],\n",
              "        [ 1.83727888,  2.1110129 ],\n",
              "        [ 0.28416019,  2.64492964],\n",
              "        [ 1.89688379,  2.26044693],\n",
              "        [ 2.06813613,  2.6101669 ],\n",
              "        [-1.72274127,  1.27907652],\n",
              "        [ 2.63238161,  1.27130508],\n",
              "        [-0.04025574,  1.7827081 ],\n",
              "        [-0.78745318,  1.40035688],\n",
              "        [ 2.70244116,  1.58744358],\n",
              "        [ 1.2909693 ,  2.75193673]]),\n",
              " array([1, 0, 0, 1, 1, 1, 0, 1, 0, 1, 0, 0, 0, 0, 0, 0, 1, 1, 1, 1, 1, 0,\n",
              "        1, 0, 0, 1, 0, 0, 0, 1, 1, 1, 1, 0, 0, 1, 0, 0, 0, 0, 1, 1, 0, 0,\n",
              "        1, 0, 1, 1, 0, 1, 1, 0, 1, 1, 1, 0, 0, 0, 1, 1, 0, 0, 1, 0, 0, 1,\n",
              "        0, 0, 0, 1, 0, 0, 0, 1, 1, 1, 0, 1, 1, 1, 0, 0, 0, 1, 1, 1, 0, 1,\n",
              "        1, 1, 0, 1, 0, 0, 1, 0, 1, 1, 0, 1]))"
            ]
          },
          "metadata": {},
          "execution_count": 39
        }
      ]
    },
    {
      "cell_type": "code",
      "source": [
        "plt.scatter(X[:,0], X[:,1], c=y)\n",
        "plt.show()"
      ],
      "metadata": {
        "id": "eEwzrVVUrkQ6",
        "outputId": "7c1fe0be-ca56-4e74-bb1c-c6dac46de2a2",
        "colab": {
          "base_uri": "https://localhost:8080/",
          "height": 430
        }
      },
      "execution_count": 32,
      "outputs": [
        {
          "output_type": "display_data",
          "data": {
            "text/plain": [
              "<Figure size 640x480 with 1 Axes>"
            ],
            "image/png": "[encoded data removed]"
          },
          "metadata": {}
        }
      ]
    },
    {
      "cell_type": "markdown",
      "source": [
        "## K-neighbors regression\n",
        "The prediction using a single neighbor is just the target value of the nearest neighbor. If more than one neighbor, the prediction is average, or mean, of the relevant neighbors"
      ],
      "metadata": {
        "id": "Grl_XuuTsMNz"
      }
    },
    {
      "cell_type": "code",
      "source": [
        "mglearn.plots.plot_knn_regression(n_neighbors=1)"
      ],
      "metadata": {
        "colab": {
          "base_uri": "https://localhost:8080/",
          "height": 414
        },
        "id": "ady9U-vlsGGM",
        "outputId": "a58d3a42-79f0-4d0e-b01a-0bbf7f65eab3"
      },
      "execution_count": null,
      "outputs": [
        {
          "output_type": "display_data",
          "data": {
            "text/plain": [
              "<Figure size 720x432 with 1 Axes>"
            ],
            "image/png": "[encoded data removed]"
          },
          "metadata": {
            "needs_background": "light"
          }
        }
      ]
    },
    {
      "cell_type": "code",
      "source": [
        "mglearn.plots.plot_knn_regression(n_neighbors=3)"
      ],
      "metadata": {
        "colab": {
          "base_uri": "https://localhost:8080/",
          "height": 414
        },
        "id": "vXI9chrzsGfk",
        "outputId": "ec3759f2-8046-4c92-ede8-862f6080f553"
      },
      "execution_count": null,
      "outputs": [
        {
          "output_type": "display_data",
          "data": {
            "text/plain": [
              "<Figure size 720x432 with 1 Axes>"
            ],
            "image/png": "[encoded data removed]"
          },
          "metadata": {
            "needs_background": "light"
          }
        }
      ]
    },
    {
      "cell_type": "code",
      "source": [
        "X, y = mglearn.datasets.make_wave(n_samples=40)\n",
        "X_train, X_test, y_train, y_test = train_test_split(X, y, random_state=0)\n",
        "reg = KNeighborsRegressor(n_neighbors=3)\n",
        "reg.fit(X_train, y_train)"
      ],
      "metadata": {
        "colab": {
          "base_uri": "https://localhost:8080/"
        },
        "id": "DCphGPkLsGiC",
        "outputId": "d5d32153-65c2-4065-c925-cedb37fa84da"
      },
      "execution_count": null,
      "outputs": [
        {
          "output_type": "execute_result",
          "data": {
            "text/plain": [
              "KNeighborsRegressor(n_neighbors=3)"
            ]
          },
          "metadata": {},
          "execution_count": 103
        }
      ]
    },
    {
      "cell_type": "code",
      "source": [
        "reg.score(X_test, y_test)"
      ],
      "metadata": {
        "colab": {
          "base_uri": "https://localhost:8080/"
        },
        "id": "evt72KDNsGkH",
        "outputId": "3fdc29af-4942-48eb-e600-8604f9aea17b"
      },
      "execution_count": null,
      "outputs": [
        {
          "output_type": "execute_result",
          "data": {
            "text/plain": [
              "0.8344172446249605"
            ]
          },
          "metadata": {},
          "execution_count": 104
        }
      ]
    },
    {
      "cell_type": "code",
      "source": [
        "fig, axes = plt.subplots(1, 3, figsize=(15,4))\n",
        "line = np.linspace(-3, 3, 1000).reshape(-1,1)\n",
        "for n_neighbors, ax in zip([1, 3, 9], axes):\n",
        "  reg = KNeighborsRegressor(n_neighbors=n_neighbors)\n",
        "  reg.fit(X_train, y_train)\n",
        "  ax.plot(line, reg.predict(line))\n",
        "  ax.plot(X_train, y_train, '^', markersize=8)\n",
        "  ax.plot(X_test, y_test, 'v', markersize=8)\n",
        "  ax.set_title(f\"{n_neighbors} neighbors \\n train score: {reg.score(X_train, y_train)} \\n test score: {reg.score(X_test, y_test)}\")\n",
        "  ax.set_xlabel(\"Feature\")\n",
        "  ax.set_ylabel(\"Target\")\n",
        "axes[0].legend(['Model Prediction', 'Training data', 'Test data'], loc='best')\n",
        "\n"
      ],
      "metadata": {
        "colab": {
          "base_uri": "https://localhost:8080/",
          "height": 342
        },
        "id": "BRHECv-lsGl_",
        "outputId": "4b2988de-d065-4705-cdd5-79d49542be27"
      },
      "execution_count": null,
      "outputs": [
        {
          "output_type": "execute_result",
          "data": {
            "text/plain": [
              "<matplotlib.legend.Legend at 0x7f4da7e1c450>"
            ]
          },
          "metadata": {},
          "execution_count": 105
        },
        {
          "output_type": "display_data",
          "data": {
            "text/plain": [
              "<Figure size 1080x288 with 3 Axes>"
            ],
            "image/png": "[encoded data removed]"
          },
          "metadata": {
            "needs_background": "light"
          }
        }
      ]
    },
    {
      "cell_type": "code",
      "source": [],
      "metadata": {
        "id": "Q4UCa2CwsGoW"
      },
      "execution_count": null,
      "outputs": []
    },
    {
      "cell_type": "code",
      "source": [
        "fig, axes = plt.subplots(1, 3, figsize=(10,3))\n",
        "for neighbor, ax in zip([1,5,9], axes):\n",
        "  zz = np.sqrt(xx**2 + yy**2)\n",
        "  ax.contour(xx, yy, zz)\n"
      ],
      "metadata": {
        "colab": {
          "base_uri": "https://localhost:8080/",
          "height": 211
        },
        "outputId": "6531669e-7f4e-4328-cc97-e9c1853be8a7",
        "id": "TrZMz0hJRBEt"
      },
      "execution_count": null,
      "outputs": [
        {
          "output_type": "display_data",
          "data": {
            "text/plain": [
              "<Figure size 720x216 with 3 Axes>"
            ],
            "image/png": "[encoded data removed]"
          },
          "metadata": {
            "needs_background": "light"
          }
        }
      ]
    },
    {
      "cell_type": "markdown",
      "source": [
        "# Linear Regression"
      ],
      "metadata": {
        "id": "M0w5Qfo90tRk"
      }
    },
    {
      "cell_type": "markdown",
      "source": [
        "## The normal equation\n",
        "a closed-form solution to find the value of theta minimizing the cost function\n"
      ],
      "metadata": {
        "id": "sroHQH2w0wyO"
      }
    },
    {
      "cell_type": "code",
      "source": [
        "X = 2 * np.random.rand(100, 1)\n",
        "y = 4 + 3 * X + np.random.randn(100,1)"
      ],
      "metadata": {
        "id": "jd4jC50LMlB-"
      },
      "execution_count": null,
      "outputs": []
    },
    {
      "cell_type": "code",
      "source": [
        "X_b = np.c_[np.ones((100,1)), X]\n",
        "theta_best = np.linalg.inv(X_b.T.dot(X_b)).dot(X_b.T).dot(y)"
      ],
      "metadata": {
        "id": "m16fdJD72nE4"
      },
      "execution_count": null,
      "outputs": []
    },
    {
      "cell_type": "code",
      "source": [
        "theta_best"
      ],
      "metadata": {
        "colab": {
          "base_uri": "https://localhost:8080/"
        },
        "id": "vFpxfSKY28Xo",
        "outputId": "f5e1ad7d-b798-4b4a-90b7-79b9a415316f"
      },
      "execution_count": null,
      "outputs": [
        {
          "output_type": "execute_result",
          "data": {
            "text/plain": [
              "array([[4.07534505],\n",
              "       [2.98501571]])"
            ]
          },
          "metadata": {},
          "execution_count": 109
        }
      ]
    },
    {
      "cell_type": "markdown",
      "source": [
        "Building model using Scikit-Learn.\n",
        "This function computes θ = X+ y, where X+ is the pseudoinverse of X (specifically the\n",
        "Moore-Penrose inverse).\n",
        "\n",
        "\n",
        "\n"
      ],
      "metadata": {
        "id": "PRFVrrrCH41O"
      }
    },
    {
      "cell_type": "code",
      "source": [
        "from sklearn.linear_model import LinearRegression"
      ],
      "metadata": {
        "id": "iEGuQ7fx5WXs"
      },
      "execution_count": null,
      "outputs": []
    },
    {
      "cell_type": "code",
      "source": [
        "reg = LinearRegression()\n",
        "reg.fit(X,y)\n",
        "reg.intercept_, reg.coef_"
      ],
      "metadata": {
        "id": "rwNIVDjv6cPl",
        "colab": {
          "base_uri": "https://localhost:8080/"
        },
        "outputId": "785431df-bbb0-4f8d-f06a-dcd3c908a3c6"
      },
      "execution_count": null,
      "outputs": [
        {
          "output_type": "execute_result",
          "data": {
            "text/plain": [
              "(array([4.07534505]), array([[2.98501571]]))"
            ]
          },
          "metadata": {},
          "execution_count": 111
        }
      ]
    },
    {
      "cell_type": "markdown",
      "source": [
        "## Gradient Descent\n",
        "gradient descent (also called steepest descent) is an iterative optimization to find local or global minimum. Some key factors in gradient descent.\n",
        "1. random initiation\n",
        "2. learning rate\n",
        "3. complexity of cost funciton, but MSE cost function is convex function\n",
        "4. the cost function has bowl shape but can be elongated if the features have different scales.  "
      ],
      "metadata": {
        "id": "ZcobNplcfK_e"
      }
    },
    {
      "cell_type": "markdown",
      "source": [
        "### Batch Gradient Descent"
      ],
      "metadata": {
        "id": "Lep_bsmD0ZtZ"
      }
    },
    {
      "cell_type": "code",
      "source": [
        "eta = 0.1  # learning rate\n",
        "n_iterations = 1000\n",
        "m = 100 # number of data\n",
        "theta = np.random.randn(2,1)"
      ],
      "metadata": {
        "id": "vU_QH0nNHvwk"
      },
      "execution_count": null,
      "outputs": []
    },
    {
      "cell_type": "code",
      "source": [
        "for iteration in range(n_iterations):\n",
        "  gradients = 2/m * X_b.T.dot(X_b.dot(theta) - y)\n",
        "  theta = theta - eta * gradients"
      ],
      "metadata": {
        "id": "fY_PZCLOprfO"
      },
      "execution_count": null,
      "outputs": []
    },
    {
      "cell_type": "markdown",
      "source": [
        "### Stochastic Gradient Descent\n",
        "1. Stochastic gradient descent just pick a random instance in the training set a every step and computes the gradients base on that single instance.\n",
        "2. When the cost functio is very irregular, this can actually help the algorithm jump out of local minima.\n",
        "\n"
      ],
      "metadata": {
        "id": "5J7V_rcYa2fy"
      }
    },
    {
      "cell_type": "code",
      "source": [
        "n_epochs = 50\n",
        "t0, t1 = 5, 50 # learning schedule hyperparameters\n",
        "def learning_schedule(t):\n",
        "  return t0/(t + t1)\n",
        "\n",
        "theta = np.random.randn(2,1)\n",
        "\n",
        "for epoch in range(n_epochs):\n",
        "  for i in range(m):\n",
        "    random_index = np.random.randint(m)\n",
        "    xi = X_b[random_index:random_index+1]\n",
        "    yi = y[random_index:random_index+1]\n",
        "    gradients = 2 * xi.T.dot(xi.dot(theta) -yi)\n",
        "    eta = learning_schedule(epoch * m + i)\n",
        "    theta = theta - eta * gradients"
      ],
      "metadata": {
        "id": "S51yXtkoa1eV"
      },
      "execution_count": null,
      "outputs": []
    },
    {
      "cell_type": "code",
      "source": [
        "theta"
      ],
      "metadata": {
        "colab": {
          "base_uri": "https://localhost:8080/"
        },
        "id": "J6TaUGtKv35m",
        "outputId": "45752faf-3d9c-4e25-fc20-28e42725b465"
      },
      "execution_count": null,
      "outputs": [
        {
          "output_type": "execute_result",
          "data": {
            "text/plain": [
              "array([[4.1008704],\n",
              "       [2.9478422]])"
            ]
          },
          "metadata": {},
          "execution_count": 115
        }
      ]
    },
    {
      "cell_type": "code",
      "source": [
        "from sklearn.linear_model import SGDRegressor\n",
        "sgd_reg = SGDRegressor(max_iter=1000, tol=1e-3, penalty=None, eta0=0.1)\n",
        "sgd_reg.fit(X, y)"
      ],
      "metadata": {
        "colab": {
          "base_uri": "https://localhost:8080/"
        },
        "id": "c5BtgyR5v66g",
        "outputId": "d2441d17-e154-43ed-ca88-f59a347f9cfa"
      },
      "execution_count": null,
      "outputs": [
        {
          "output_type": "execute_result",
          "data": {
            "text/plain": [
              "SGDRegressor(eta0=0.1, penalty=None)"
            ]
          },
          "metadata": {},
          "execution_count": 116
        }
      ]
    },
    {
      "cell_type": "code",
      "source": [
        "sgd_reg.intercept_ , sgd_reg.coef_"
      ],
      "metadata": {
        "colab": {
          "base_uri": "https://localhost:8080/"
        },
        "id": "LPos5zMDv69q",
        "outputId": "4a97b4a6-36bb-4ed9-aa9c-e335452bfe19"
      },
      "execution_count": null,
      "outputs": [
        {
          "output_type": "execute_result",
          "data": {
            "text/plain": [
              "(array([4.09929999]), array([3.05696214]))"
            ]
          },
          "metadata": {},
          "execution_count": 117
        }
      ]
    },
    {
      "cell_type": "markdown",
      "source": [
        "### Mini-batch Gradient Descent"
      ],
      "metadata": {
        "id": "QYTpIeNqFDbz"
      }
    },
    {
      "cell_type": "markdown",
      "source": [
        "### Polynomial Regression"
      ],
      "metadata": {
        "id": "1s5rALP9hBxb"
      }
    },
    {
      "cell_type": "code",
      "source": [
        "# generate nonlinear data\n",
        "m = 100\n",
        "X = 6 * np.random.rand(m,1) - 3\n",
        "y = 0.5 * X**2 + X + 2 + np.random.randn(m, 1)"
      ],
      "metadata": {
        "id": "W0LfqgYsv7Aq"
      },
      "execution_count": null,
      "outputs": []
    },
    {
      "cell_type": "code",
      "source": [
        "fig = plt.figure(figsize=(12, 4))\n",
        "plt.scatter(X, y)"
      ],
      "metadata": {
        "id": "GZB5ybKqv7Du",
        "colab": {
          "base_uri": "https://localhost:8080/",
          "height": 282
        },
        "outputId": "6c688bfb-33b5-47de-a847-62d2e796c619"
      },
      "execution_count": null,
      "outputs": [
        {
          "output_type": "execute_result",
          "data": {
            "text/plain": [
              "<matplotlib.collections.PathCollection at 0x7f4da7ec2610>"
            ]
          },
          "metadata": {},
          "execution_count": 119
        },
        {
          "output_type": "display_data",
          "data": {
            "text/plain": [
              "<Figure size 864x288 with 1 Axes>"
            ],
            "image/png": "[encoded data removed]"
          },
          "metadata": {
            "needs_background": "light"
          }
        }
      ]
    },
    {
      "cell_type": "code",
      "source": [
        "from sklearn.preprocessing import PolynomialFeatures\n",
        "poly_features = PolynomialFeatures(degree=2, include_bias=False)\n",
        "X_poly = poly_features.fit_transform(X)"
      ],
      "metadata": {
        "id": "gXChUp4Bv7Gv"
      },
      "execution_count": null,
      "outputs": []
    },
    {
      "cell_type": "code",
      "source": [
        "lin_reg = LinearRegression()\n",
        "lin_reg.fit(X_poly, y)\n",
        "lin_reg.intercept_, lin_reg.coef_"
      ],
      "metadata": {
        "id": "EQjQMndav7J1",
        "colab": {
          "base_uri": "https://localhost:8080/"
        },
        "outputId": "fadb5dcf-2c7c-4e1c-db4b-9e58b57682cf"
      },
      "execution_count": null,
      "outputs": [
        {
          "output_type": "execute_result",
          "data": {
            "text/plain": [
              "(array([2.06344369]), array([[1.06573895, 0.51972345]]))"
            ]
          },
          "metadata": {},
          "execution_count": 121
        }
      ]
    },
    {
      "cell_type": "code",
      "source": [
        "y_predict = lin_reg.predict(X_poly)"
      ],
      "metadata": {
        "id": "gPrJ84ohv7Pf"
      },
      "execution_count": null,
      "outputs": []
    },
    {
      "cell_type": "code",
      "source": [
        "fig = plt.figure(figsize=(12, 4))\n",
        "plt.scatter(X, y)\n",
        "plt.scatter(X, y_predict)"
      ],
      "metadata": {
        "id": "CHHBtfe8v7S0",
        "colab": {
          "base_uri": "https://localhost:8080/",
          "height": 282
        },
        "outputId": "7da230b1-e16d-457c-8394-8dea6b838d62"
      },
      "execution_count": null,
      "outputs": [
        {
          "output_type": "execute_result",
          "data": {
            "text/plain": [
              "<matplotlib.collections.PathCollection at 0x7f4da7afebd0>"
            ]
          },
          "metadata": {},
          "execution_count": 123
        },
        {
          "output_type": "display_data",
          "data": {
            "text/plain": [
              "<Figure size 864x288 with 1 Axes>"
            ],
            "image/png": "[encoded data removed]"
          },
          "metadata": {
            "needs_background": "light"
          }
        }
      ]
    },
    {
      "cell_type": "markdown",
      "source": [
        "### Learning Curve"
      ],
      "metadata": {
        "id": "sR-juoS8sHIK"
      }
    },
    {
      "cell_type": "code",
      "source": [
        "from sklearn.metrics import mean_squared_error\n",
        "from sklearn.model_selection import train_test_split"
      ],
      "metadata": {
        "id": "wAQYpaXBsGhb"
      },
      "execution_count": null,
      "outputs": []
    },
    {
      "cell_type": "code",
      "source": [
        "def plot_learning_curves(model, X, y):\n",
        "  X_train, X_val, y_train, y_val = train_test_split(X, y, test_size=0.2)\n",
        "  train_errors, val_errors = [], []\n",
        "  for m in range(1, len(X_train)):\n",
        "    model.fit(X_train[:m], y_train[:m])\n",
        "    y_train_predict = model.predict(X_train[:m])\n",
        "    y_val_predict = model.predict(X_val)\n",
        "    train_errors.append(mean_squared_error(y_train[:m], y_train_predict))\n",
        "    val_errors.append(mean_squared_error(y_val, y_val_predict))\n",
        "  plt.plot(np.sqrt(train_errors), linewidth=3, label='train')\n",
        "  plt.plot(np.sqrt(val_errors), linewidth=3, label='validation')\n",
        "  plt.legend()\n",
        "\n",
        "\n"
      ],
      "metadata": {
        "id": "9jcFBXJiv7WI"
      },
      "execution_count": null,
      "outputs": []
    },
    {
      "cell_type": "code",
      "source": [
        "lin_reg = LinearRegression()\n",
        "plot_learning_curves(lin_reg, X, y)"
      ],
      "metadata": {
        "id": "z5VCazSAv7ZO",
        "colab": {
          "base_uri": "https://localhost:8080/",
          "height": 265
        },
        "outputId": "864b35e0-3fa3-4b02-a30b-c1752d80ad27"
      },
      "execution_count": null,
      "outputs": [
        {
          "output_type": "display_data",
          "data": {
            "text/plain": [
              "<Figure size 432x288 with 1 Axes>"
            ],
            "image/png": "[encoded data removed]"
          },
          "metadata": {
            "needs_background": "light"
          }
        }
      ]
    },
    {
      "cell_type": "code",
      "source": [
        "from sklearn.pipeline import Pipeline\n",
        "polynomial_regression = Pipeline([('poly_features', PolynomialFeatures(degree=10, include_bias=False)), ('lin_reg', LinearRegression())])\n",
        "plot_learning_curves(polynomial_regression, X, y)\n",
        "plt.ylim(0, 5)"
      ],
      "metadata": {
        "colab": {
          "base_uri": "https://localhost:8080/",
          "height": 286
        },
        "id": "tPqjCWIOxIEz",
        "outputId": "c59fdaa9-d62b-4243-bcfa-0caf212782bb"
      },
      "execution_count": null,
      "outputs": [
        {
          "output_type": "execute_result",
          "data": {
            "text/plain": [
              "(0.0, 5.0)"
            ]
          },
          "metadata": {},
          "execution_count": 127
        },
        {
          "output_type": "display_data",
          "data": {
            "text/plain": [
              "<Figure size 432x288 with 1 Axes>"
            ],
            "image/png": "[encoded data removed]"
          },
          "metadata": {
            "needs_background": "light"
          }
        }
      ]
    },
    {
      "cell_type": "markdown",
      "source": [
        "## Logistic Regression"
      ],
      "metadata": {
        "id": "rLyyT_gJ8ffu"
      }
    },
    {
      "cell_type": "code",
      "source": [
        "y"
      ],
      "metadata": {
        "id": "om93YVgVOicW",
        "outputId": "7501de29-9784-4bda-fe62-7cee1472a050",
        "colab": {
          "base_uri": "https://localhost:8080/"
        }
      },
      "execution_count": null,
      "outputs": [
        {
          "output_type": "execute_result",
          "data": {
            "text/plain": [
              "array([[ 1.04293915e+01],\n",
              "       [ 3.28454476e+00],\n",
              "       [ 3.01759465e+00],\n",
              "       [ 1.70628578e+00],\n",
              "       [ 7.06804035e+00],\n",
              "       [ 1.00443129e+00],\n",
              "       [ 4.42036716e+00],\n",
              "       [ 6.65055517e+00],\n",
              "       [ 5.72520008e+00],\n",
              "       [ 3.53562960e+00],\n",
              "       [ 3.29786399e+00],\n",
              "       [ 6.05574039e-01],\n",
              "       [ 2.84080346e+00],\n",
              "       [ 2.16879783e+00],\n",
              "       [ 5.21391531e-01],\n",
              "       [ 3.98875958e+00],\n",
              "       [ 8.80816390e-01],\n",
              "       [ 7.86667040e+00],\n",
              "       [ 4.64782041e+00],\n",
              "       [ 1.63514949e+00],\n",
              "       [ 3.82691970e+00],\n",
              "       [ 6.64001825e+00],\n",
              "       [ 2.24996610e+00],\n",
              "       [ 3.03832041e+00],\n",
              "       [ 2.01440533e+00],\n",
              "       [ 8.43779027e+00],\n",
              "       [ 1.48436359e+00],\n",
              "       [ 1.44219611e+00],\n",
              "       [ 9.55046180e+00],\n",
              "       [ 3.68805739e+00],\n",
              "       [ 3.98498696e+00],\n",
              "       [ 4.48838438e+00],\n",
              "       [ 1.74075912e+00],\n",
              "       [ 1.01208012e+00],\n",
              "       [ 2.80318280e+00],\n",
              "       [ 1.45822742e+00],\n",
              "       [ 5.31892578e-01],\n",
              "       [ 1.92600023e+00],\n",
              "       [ 3.56674643e-01],\n",
              "       [ 4.88045991e+00],\n",
              "       [ 2.84663816e+00],\n",
              "       [ 5.55873635e+00],\n",
              "       [ 5.98379283e-01],\n",
              "       [ 5.35789921e-01],\n",
              "       [ 3.03648652e+00],\n",
              "       [ 3.65386592e-01],\n",
              "       [ 1.64489127e+00],\n",
              "       [ 3.69211716e+00],\n",
              "       [ 2.29836000e+00],\n",
              "       [ 2.95093698e+00],\n",
              "       [ 1.42394190e+00],\n",
              "       [ 1.10665924e+00],\n",
              "       [ 6.01869223e+00],\n",
              "       [ 1.05943729e+01],\n",
              "       [ 6.80444673e+00],\n",
              "       [ 2.12169069e+00],\n",
              "       [ 1.02335234e+00],\n",
              "       [ 2.17024614e+00],\n",
              "       [ 3.67095191e+00],\n",
              "       [ 2.99910163e+00],\n",
              "       [ 1.04099363e+00],\n",
              "       [ 1.54948235e+00],\n",
              "       [ 7.93734645e-01],\n",
              "       [ 1.64529303e+00],\n",
              "       [ 4.91877009e-01],\n",
              "       [ 5.24342730e+00],\n",
              "       [ 3.29016328e+00],\n",
              "       [ 2.29924410e+00],\n",
              "       [ 3.00316586e+00],\n",
              "       [ 5.42356889e+00],\n",
              "       [ 3.59724476e+00],\n",
              "       [ 8.41367432e+00],\n",
              "       [ 3.64052957e+00],\n",
              "       [ 8.62263583e+00],\n",
              "       [ 6.98569551e+00],\n",
              "       [-4.00154744e-03],\n",
              "       [ 9.13475944e-01],\n",
              "       [ 2.69770705e+00],\n",
              "       [ 2.23755768e+00],\n",
              "       [ 8.91601937e-01],\n",
              "       [ 1.37371844e+00],\n",
              "       [ 4.12090978e+00],\n",
              "       [ 7.70498251e+00],\n",
              "       [ 2.82373451e+00],\n",
              "       [ 3.76412361e+00],\n",
              "       [ 4.19529280e-01],\n",
              "       [ 3.04514571e-02],\n",
              "       [ 2.99042805e+00],\n",
              "       [ 8.83299235e-01],\n",
              "       [ 3.19092473e+00],\n",
              "       [ 3.64490899e+00],\n",
              "       [ 8.48808667e+00],\n",
              "       [ 5.45401128e+00],\n",
              "       [ 5.51702669e-01],\n",
              "       [ 3.99230897e+00],\n",
              "       [ 9.35090339e+00],\n",
              "       [-2.55964086e-01],\n",
              "       [ 9.30986987e+00],\n",
              "       [ 2.04882084e+00],\n",
              "       [ 2.72329548e+00]])"
            ]
          },
          "metadata": {},
          "execution_count": 128
        }
      ]
    },
    {
      "cell_type": "code",
      "source": [
        "from sklearn import datasets\n",
        "from sklearn.linear_model import LogisticRegression"
      ],
      "metadata": {
        "id": "QC8VLpHQLGfx"
      },
      "execution_count": null,
      "outputs": []
    },
    {
      "cell_type": "code",
      "source": [
        "iris = datasets.load_iris()\n",
        "list(iris.keys())\n",
        "X = iris['data'][:, 3:]\n",
        "y = (iris['target'] == 2).astype(np.int)"
      ],
      "metadata": {
        "id": "8A6b7pPQ85VC"
      },
      "execution_count": null,
      "outputs": []
    },
    {
      "cell_type": "code",
      "source": [
        "log_reg = LogisticRegression()\n",
        "log_reg.fit(X, y)"
      ],
      "metadata": {
        "id": "iPs-fMaD9A9P",
        "outputId": "7edbb2f8-1c40-460d-f52e-6287ff7e95f8",
        "colab": {
          "base_uri": "https://localhost:8080/"
        }
      },
      "execution_count": null,
      "outputs": [
        {
          "output_type": "execute_result",
          "data": {
            "text/plain": [
              "LogisticRegression()"
            ]
          },
          "metadata": {},
          "execution_count": 131
        }
      ]
    },
    {
      "cell_type": "code",
      "source": [
        "X_new = np.linspace(0, 3, 1000).reshape(-1, 1)\n",
        "y_prob = log_reg.predict_proba(X_new)\n",
        "plt.plot(X_new, y_prob[:,1], 'g-', label='Iris-Virginica')\n",
        "plt.plot(X_new, y_prob[:,0], 'b--', label='Non Iris')\n",
        "plt.show()"
      ],
      "metadata": {
        "id": "0tgKdXEE9Ko0",
        "outputId": "3cf8f85c-3094-45c9-d006-f80990ae89f2",
        "colab": {
          "base_uri": "https://localhost:8080/",
          "height": 265
        }
      },
      "execution_count": null,
      "outputs": [
        {
          "output_type": "display_data",
          "data": {
            "text/plain": [
              "<Figure size 432x288 with 1 Axes>"
            ],
            "image/png": "[encoded data removed]"
          },
          "metadata": {
            "needs_background": "light"
          }
        }
      ]
    },
    {
      "cell_type": "markdown",
      "source": [
        "### Softmax Regression\n",
        "The logistic Regression model can be generalized to support multiple classes directly, without having to train and combine multiple binary classifiers.\n",
        "\n",
        "the softmax regression computes a score for each class, then estimates the probability of each class.\n",
        "\n",
        "The softmax classifier predicts only one class at a time\n",
        "\n",
        "The cost function is the cross entropy."
      ],
      "metadata": {
        "id": "qbsTwfNms1v9"
      }
    },
    {
      "cell_type": "code",
      "source": [
        "X = iris['data'][:, (2,3)]\n",
        "y = iris['target']"
      ],
      "metadata": {
        "id": "cSKPxNF--QLl"
      },
      "execution_count": null,
      "outputs": []
    },
    {
      "cell_type": "code",
      "source": [
        "softmax_reg = LogisticRegression(multi_class='multinomial', solver='lbfgs', C=10)\n",
        "softmax_reg.fit(X, y)"
      ],
      "metadata": {
        "id": "-_AFpq_XB5eO",
        "outputId": "7cd133ff-2712-46f7-cf70-da1dc4458a21",
        "colab": {
          "base_uri": "https://localhost:8080/"
        }
      },
      "execution_count": null,
      "outputs": [
        {
          "output_type": "execute_result",
          "data": {
            "text/plain": [
              "LogisticRegression(C=10, multi_class='multinomial')"
            ]
          },
          "metadata": {},
          "execution_count": 134
        }
      ]
    },
    {
      "cell_type": "markdown",
      "source": [
        "# Decision Tree"
      ],
      "metadata": {
        "id": "_uAohfHUPncZ"
      }
    },
    {
      "cell_type": "markdown",
      "source": [
        "## Start with an example\n",
        "Decision Trees require very little data preparation. In particular, They don't require feature scaling and centering at all."
      ],
      "metadata": {
        "id": "d2wGKE8IZJK4"
      }
    },
    {
      "cell_type": "code",
      "source": [
        "from sklearn.datasets import load_iris\n",
        "from sklearn.tree import DecisionTreeClassifier\n",
        "from sklearn.tree import export_graphviz\n",
        "iris = load_iris()\n",
        "X = iris.data[:, 2:]\n",
        "y = iris.target\n",
        "tree_clf = DecisionTreeClassifier(max_depth=2)\n",
        "tree_clf.fit(X, y)"
      ],
      "metadata": {
        "id": "J_33NwrTo2oq",
        "outputId": "aacadfc2-6ad7-49c0-c08d-efe9cf7e903b",
        "colab": {
          "base_uri": "https://localhost:8080/"
        }
      },
      "execution_count": null,
      "outputs": [
        {
          "output_type": "execute_result",
          "data": {
            "text/plain": [
              "DecisionTreeClassifier(max_depth=2)"
            ]
          },
          "metadata": {},
          "execution_count": 135
        }
      ]
    },
    {
      "cell_type": "code",
      "source": [
        "from matplotlib import image\n",
        "export_graphviz(tree_clf, out_file='iris_tree.dot',\n",
        "                feature_names=iris.feature_names[2:],\n",
        "                class_names=iris.target_names,\n",
        "                rounded=True,\n",
        "                filled=True)"
      ],
      "metadata": {
        "id": "bQc05NJGPm6I"
      },
      "execution_count": null,
      "outputs": []
    },
    {
      "cell_type": "markdown",
      "source": [
        "Decision Trees are often called white box models while Random Forest or neural networks are generally considered as black box models."
      ],
      "metadata": {
        "id": "luUQeI0HZPzb"
      }
    },
    {
      "cell_type": "markdown",
      "source": [
        "## The CART Training Algorithm\n",
        "Scikit-Learn uses the Classification And Regression Tree (CART) algorithm to train Decision Trees. The model first split the training set in two subsets using a single feature *k* and a threshold *t*. Once it has successfully split the training set in two, it splits the subsets using the same logic\n",
        "\n",
        "The CART algorithm is a greedy algorithm.\n",
        "\n",
        "A greedy algorithm often producess a reasonalbly good solution, but it is not guaranteed to be the optimal solution.\n"
      ],
      "metadata": {
        "id": "FaOl6qIupXYs"
      }
    },
    {
      "cell_type": "markdown",
      "source": [
        "## Gini Impurity or Entropy\n",
        "By default, the Gini impurity measure is used, but entropy impurity can be the alternative. In most cases, the two options do not make differences."
      ],
      "metadata": {
        "id": "qWPdCW10xOwt"
      }
    },
    {
      "cell_type": "markdown",
      "source": [
        "## Regularization Hyperparameters\n",
        "1. Decision Trees make very few assumption about the training data. if no constrain, the tree will adapt itself to the training data, very likely overfitting.\n",
        "2. It does have some parameters but the number of the parameters is not determined prior to training.\n",
        "3. The most regularized hyperparameters is the maximum depth of the Decision Tree."
      ],
      "metadata": {
        "id": "WgcHigbgxXNX"
      }
    },
    {
      "cell_type": "markdown",
      "source": [
        "## Regression\n",
        "1. Decision Trees are capable of performing regression task.\n",
        "2. The Decisio Trees predicts a value by averaging target value of the training instances of the leaf node.\n",
        "3. Instead of impurity, it tries minimize the MSE.\n",
        "4. Decison Trees like orthogonal decision boundaries, which makes them sensitive to training set rotation. Using PCA often results in a better orientation of the training data.\n"
      ],
      "metadata": {
        "id": "HiLQKbgkEBqG"
      }
    },
    {
      "cell_type": "markdown",
      "source": [
        "# Ensemble Learning\n",
        "1. A group of predictors is called an ensemble. The technique to train a model by an ensemble is called ensemble learning.\n",
        "2. Ensemble methods work best when the predictors are as independent fro one another as possible. One way to get diverse classifiers is to train them using very different algorithms. This increase the chance that they will make very different types of errors, improving the emsembles' accuracy.\n",
        "\n"
      ],
      "metadata": {
        "id": "8E0xVHjDzsKA"
      }
    },
    {
      "cell_type": "markdown",
      "source": [
        "## Voting Classifiers\n",
        "1. A simple way to create an better classifier is to aggregate the predictions of each classifier and predict the class that gets the most votes. This mojority-vote classifier is called a hard voting classifier.\n",
        "2. The voting classifier is always better than the best classifier in the ensemble. Even if each classifier is a weak learner, the ensemble can still be a strong learner.\n",
        "3. If all classifier are able to estimate class probabilities, then it can predict the class with the highest class probability averaging over all the individual classifiers. This is called soft voting.\n",
        "3. The soft voting have better performance than hard voting.\n",
        "\n"
      ],
      "metadata": {
        "id": "Lyvqmxfb1e3p"
      }
    },
    {
      "cell_type": "code",
      "source": [
        "from sklearn.ensemble import RandomForestClassifier\n",
        "from sklearn.ensemble import VotingClassifier\n",
        "from sklearn.linear_model import LogisticRegression\n",
        "from sklearn.svm import SVC"
      ],
      "metadata": {
        "id": "Thl4c1B-ZPFQ"
      },
      "execution_count": null,
      "outputs": []
    },
    {
      "cell_type": "code",
      "source": [
        "log_clf = LogisticRegression()\n",
        "rnd_clf = RandomForestClassifier()\n",
        "svm_clf = SVC()\n",
        "voting_clf = VotingClassifier(estimators=[('lr', log_clf), ('rf', rnd_clf), ('svc', svm_clf)], voting='hard')"
      ],
      "metadata": {
        "id": "f91QDv5_1eVS"
      },
      "execution_count": null,
      "outputs": []
    },
    {
      "cell_type": "code",
      "source": [
        "from sklearn.metrics import accuracy_score\n",
        "from sklearn.datasets import make_moons\n",
        "from sklearn.model_selection import train_test_split\n",
        "X_train, X_test, y_train, y_test = train_test_split(X, y, test_size=0.3)"
      ],
      "metadata": {
        "id": "FbleDegCU6E_"
      },
      "execution_count": null,
      "outputs": []
    },
    {
      "cell_type": "code",
      "source": [
        "for clf in (log_clf, rnd_clf, svm_clf, voting_clf):\n",
        "  clf.fit(X_train, y_train)\n",
        "  y_pred = clf.predict(X_test)\n",
        "  print(clf.__class__.__name__, accuracy_score(y_test, y_pred))"
      ],
      "metadata": {
        "id": "WE3wAQWcZDTm",
        "colab": {
          "base_uri": "https://localhost:8080/"
        },
        "outputId": "01582728-8661-455d-da46-a851875ecd4a"
      },
      "execution_count": null,
      "outputs": [
        {
          "output_type": "stream",
          "name": "stdout",
          "text": [
            "LogisticRegression 0.9333333333333333\n",
            "RandomForestClassifier 0.9333333333333333\n",
            "SVC 0.9333333333333333\n",
            "VotingClassifier 0.9333333333333333\n"
          ]
        }
      ]
    },
    {
      "cell_type": "markdown",
      "source": [
        "## Bagging and Pasting\n",
        "1. The same training algorithm for every predictor, but train them on different random subsets of the training set. When sampling is performed with replacement, this method is called bagging (bootstrap aggregating). When sampling is performed without replacement, it is called pasting.\n",
        "2. Once all predictors are trained, the ensemble can make a prediction for a new instance by simply aggregating the predictions of all predictors. The aggregation function is typically the statistical mode for the classification, or the average for regression.\n",
        "3. Each predictor has a higher bias than if it were trained on the original training set, but aggregation reduces both bias and variance. Generally, the net result is that the ensemble has a similar bias but a lower variance than a single predictor trained on the original training set."
      ],
      "metadata": {
        "id": "ZkGFX3TtIiFF"
      }
    },
    {
      "cell_type": "code",
      "source": [
        "from sklearn.ensemble import BaggingClassifier\n",
        "from sklearn.tree import DecisionTreeClassifier"
      ],
      "metadata": {
        "id": "64FSIMDKOEIE"
      },
      "execution_count": null,
      "outputs": []
    },
    {
      "cell_type": "code",
      "source": [
        "bag_clf = BaggingClassifier(DecisionTreeClassifier(), n_estimators=500, max_samples=100, bootstrap=True, n_jobs=-1)\n",
        "bag_clf.fit(X_train, y_train)\n",
        "y_pred = bag_clf.predict(X_test)"
      ],
      "metadata": {
        "id": "_1qC0MpA8U6E"
      },
      "execution_count": null,
      "outputs": []
    },
    {
      "cell_type": "markdown",
      "source": [
        "## Out-of-Bag Evaluation\n",
        "1. With bagging, some instance may be sample several times for any given predictor, while others may not be sampled at all. This means only about 63% of the training instances are sampled on average for each predictor. The remaining 37% of the training instances that are not sampled are call out-of-bag (oob) instances.\n",
        "2. Since a predictor never sees the oob instaces during training, it can be evaluated on these instances without the need for a separate validation.\n"
      ],
      "metadata": {
        "id": "Yhahymn-RWVo"
      }
    },
    {
      "cell_type": "code",
      "source": [
        "bag_clf = BaggingClassifier(DecisionTreeClassifier(), n_estimators=500, bootstrap=True, n_jobs=-1, oob_score=True)\n",
        "bag_clf.fit(X_train, y_train)"
      ],
      "metadata": {
        "id": "NyoGXKRl8f_u",
        "outputId": "533c0a5d-95f1-4282-d37b-36a889c61098",
        "colab": {
          "base_uri": "https://localhost:8080/"
        }
      },
      "execution_count": null,
      "outputs": [
        {
          "output_type": "execute_result",
          "data": {
            "text/plain": [
              "BaggingClassifier(base_estimator=DecisionTreeClassifier(), n_estimators=500,\n",
              "                  n_jobs=-1, oob_score=True)"
            ]
          },
          "metadata": {},
          "execution_count": 143
        }
      ]
    },
    {
      "cell_type": "code",
      "source": [
        "bag_clf.oob_score_"
      ],
      "metadata": {
        "id": "mGA4jGdwUCTo",
        "outputId": "c2e299d3-f3d4-499d-8b67-8526191f5e28",
        "colab": {
          "base_uri": "https://localhost:8080/"
        }
      },
      "execution_count": null,
      "outputs": [
        {
          "output_type": "execute_result",
          "data": {
            "text/plain": [
              "0.9619047619047619"
            ]
          },
          "metadata": {},
          "execution_count": 144
        }
      ]
    },
    {
      "cell_type": "code",
      "source": [
        "from sklearn.metrics import accuracy_score\n",
        "y_pred = bag_clf.predict(X_test)\n",
        "accuracy_score(y_test, y_pred)"
      ],
      "metadata": {
        "id": "UufvL2THVFZG",
        "outputId": "4d3171a5-dd4d-4b0b-9380-c1d6db1ae5df",
        "colab": {
          "base_uri": "https://localhost:8080/"
        }
      },
      "execution_count": null,
      "outputs": [
        {
          "output_type": "execute_result",
          "data": {
            "text/plain": [
              "0.9333333333333333"
            ]
          },
          "metadata": {},
          "execution_count": 145
        }
      ]
    },
    {
      "cell_type": "markdown",
      "source": [
        "## Random Patches and Random Subspaces\n",
        "1. The BaggingClassifier class support sampling the features.\n",
        "2. This is particularly useful when you are dealing with high-dimensional inputs.\n"
      ],
      "metadata": {
        "id": "80iKIaKRL_jL"
      }
    },
    {
      "cell_type": "markdown",
      "source": [
        "## Random Forest\n",
        "1. The Random Forest algorithm introduces extra randomness when growing trees;\n",
        "instead of searching for the very best feature when splitting a node, it searches for the best feature among a random subset of features. This results in a greater tree diversity, which trades a higher bias for a lower variance, generally yieliding an overall better model.\n"
      ],
      "metadata": {
        "id": "j09ZRv17M3cz"
      }
    },
    {
      "cell_type": "code",
      "source": [
        "from sklearn.ensemble import RandomForestClassifier\n",
        "rnd_clf = RandomForestClassifier(n_estimators=500, max_leaf_nodes=16, n_jobs=-1)\n",
        "rnd_clf.fit(X_train, y_train)\n",
        "y_pred_rf = rnd_clf.predict(X_test)"
      ],
      "metadata": {
        "id": "1Fau4WJdVSD7"
      },
      "execution_count": null,
      "outputs": []
    },
    {
      "cell_type": "markdown",
      "source": [
        "## Extra-Trees\n",
        "When a Random Forest growing, at each node only a random subset of the features is considered for splitting. It is possible to make trees even more random by also using random thresholds for each feature rather than searching for the best possible thresholds. A forest of such extremely random trees is simply called an Extremely Randomized Trees ensemble."
      ],
      "metadata": {
        "id": "RQ3UkJBxBnUt"
      }
    },
    {
      "cell_type": "markdown",
      "source": [
        "## Feature Importance\n",
        "Random Forests can measure the relative importance of each feature. Scikit-Learn measures a feature's importance by looking at how much the tree nodes that use that feature reduce impurity on average. Scikit-Learn computes this score automatically for each feature after training, then it scales the results so that the sum of all importance is equal to 1."
      ],
      "metadata": {
        "id": "-oldJBcsO1Ge"
      }
    },
    {
      "cell_type": "code",
      "source": [
        "from sklearn.datasets import load_iris\n",
        "iris = load_iris()\n",
        "rnd_clf = RandomForestClassifier(n_estimators=500, n_jobs=-1)\n",
        "rnd_clf.fit(iris['data'], iris['target'])\n",
        "for name, score in zip(iris['feature_names'], rnd_clf.feature_importances_):\n",
        "  print(name, score)"
      ],
      "metadata": {
        "id": "tJjQlBMLWTbJ",
        "outputId": "f9a89853-e6d8-435c-8862-d5abe410159f",
        "colab": {
          "base_uri": "https://localhost:8080/"
        }
      },
      "execution_count": null,
      "outputs": [
        {
          "output_type": "stream",
          "name": "stdout",
          "text": [
            "sepal length (cm) 0.09591337196119329\n",
            "sepal width (cm) 0.024151261479837847\n",
            "petal length (cm) 0.4451728952504937\n",
            "petal width (cm) 0.43476247130847523\n"
          ]
        }
      ]
    },
    {
      "cell_type": "markdown",
      "source": [
        "## AdaBoost\n",
        "1. Boosting refers to any Ensemble method that can combine several weak learners into a strong learner. The general idea of most boosting methods is to train predictors sequentially, each trying to correct its predecesor. The most popular are AdaBoost and Gradient Boosting.\n",
        "2. This sequential learning technique has some similarities with Gradient Descent, except that instead of tweaking a single predictor's parameters to minimize a cost function, AdaBoost adds predictors to the ensemble, gradually making it better.\n",
        "3. This sequential learning cannot be parallelized (or only partially), since each predictor can only be trained after the previous predictor has been trained and evaluated.\n",
        "4. To make predictions, AdaBoost simply computes the predictions of all the predictors and weighs them using the predictor weights. The predicted class is the one that receives the majority of weighted votes."
      ],
      "metadata": {
        "id": "tfU3wiVjSqMD"
      }
    },
    {
      "cell_type": "code",
      "source": [
        "from sklearn.ensemble import AdaBoostClassifier\n",
        "ada_clf = AdaBoostClassifier(DecisionTreeClassifier(max_depth=1), n_estimators=200, algorithm=\"SAMME.R\", learning_rate=0.5)\n",
        "ada_clf.fit(X_train, y_train)"
      ],
      "metadata": {
        "id": "e96QejDiSQjx",
        "outputId": "375e8ffd-a90d-420a-cd4e-100fb4a824e5",
        "colab": {
          "base_uri": "https://localhost:8080/"
        }
      },
      "execution_count": null,
      "outputs": [
        {
          "output_type": "execute_result",
          "data": {
            "text/plain": [
              "AdaBoostClassifier(base_estimator=DecisionTreeClassifier(max_depth=1),\n",
              "                   learning_rate=0.5, n_estimators=200)"
            ]
          },
          "metadata": {},
          "execution_count": 148
        }
      ]
    },
    {
      "cell_type": "markdown",
      "source": [
        "## Gradient Boosting\n",
        "1. Like AdaBoost, Gradient Boosting works by sequentially adding predictors to an ensemble, each one correcting its predecessor. However, instead of tweaking the instance weights at every iteration like AdaBoost does, this method tries to fit the new predictor to the residual errors made by the previous predictor.\n"
      ],
      "metadata": {
        "id": "Nis39PJbTbbw"
      }
    },
    {
      "cell_type": "code",
      "source": [
        "from sklearn.tree import DecisionTreeRegressor\n",
        "# Fit a DecisionTreeRegressor to the training set\n",
        "tree_reg1 = DecisionTreeRegressor(max_depth=2)\n",
        "tree_reg1.fit(X,y)\n",
        "# Train a second DecisionTreeRegressor on the residual errors made by the first predictor\n",
        "y2 = y - tree_reg1.predict(X)\n",
        "tree_reg2 = DecisionTreeRegressor(max_depth=2)\n",
        "tree_reg2.fit(X, y2)\n",
        "# Train a third one on the residual errors made by the second predictor\n",
        "y3 = y2 - tree_reg2.predict(X)\n",
        "tree_reg3 = DecisionTreeRegressor(max_depth=2)\n",
        "tree_reg3.fit(X, y3)\n",
        "# Now we have an ensemble containing three trees. It can make predictions on a new instance simply by adding up the prediction of all the trees\n",
        "# y_pred = sum(tree.predict(X_new) for tree in (tree_reg1, tree_reg2, tree_reg3))\n",
        "\n"
      ],
      "metadata": {
        "id": "cpTdzh_-K7Lp",
        "outputId": "45ac19ec-0ec9-42fe-dca6-9e3cd3f2d5ac",
        "colab": {
          "base_uri": "https://localhost:8080/"
        }
      },
      "execution_count": null,
      "outputs": [
        {
          "output_type": "execute_result",
          "data": {
            "text/plain": [
              "DecisionTreeRegressor(max_depth=2)"
            ]
          },
          "metadata": {},
          "execution_count": 149
        }
      ]
    },
    {
      "cell_type": "code",
      "source": [
        "from sklearn.ensemble import GradientBoostingRegressor\n",
        "gbrt = GradientBoostingRegressor(max_depth=2, n_estimators=3, learning_rate=1.0)\n",
        "gbrt.fit(X, y)"
      ],
      "metadata": {
        "id": "W-8KQAtFOHDx",
        "outputId": "3d6975d9-b934-4d80-e80f-6a85702df635",
        "colab": {
          "base_uri": "https://localhost:8080/"
        }
      },
      "execution_count": null,
      "outputs": [
        {
          "output_type": "execute_result",
          "data": {
            "text/plain": [
              "GradientBoostingRegressor(learning_rate=1.0, max_depth=2, n_estimators=3)"
            ]
          },
          "metadata": {},
          "execution_count": 150
        }
      ]
    },
    {
      "cell_type": "markdown",
      "source": [
        "1. The learning_rate hyperparameter scales the contribution of each tree. if you set it to a low value, you will need more trees in the ensemble to fit the training set, but the prediction s will usually generalize better. This is a regularization technique called *shrinkage*.\n",
        "2. In order to find the optimal number of trees, you can use early stopping.\n",
        "3. The following code trains a GBRT ensemble with 120 trees, then measures the validation error at each stage of training to find the optimal number of trees, and finally trains another GBRT ensemble using the optimal number of trees.\n"
      ],
      "metadata": {
        "id": "uVTArTOmTCbA"
      }
    },
    {
      "cell_type": "code",
      "source": [
        "import numpy as np\n",
        "from sklearn.model_selection import train_test_split\n",
        "from sklearn.metrics import mean_squared_error\n",
        "\n",
        "X_train, X_val, y_train, y_val = train_test_split(X, y)\n",
        "\n",
        "gbrt = GradientBoostingRegressor(max_depth=2, n_estimators=120)\n",
        "gbrt.fit(X_train, y_train)\n",
        "\n",
        "errors = [mean_squared_error(y_val, y_pred) for y_pred in gbrt.staged_predict(X_val)]\n",
        "bst_n_estimators = np.argmin(errors)\n",
        "\n",
        "gbrt_best = GradientBoostingRegressor(max_depth=2, n_estimators=bst_n_estimators)\n",
        "gbrt_best.fit(X_train, y_train)\n",
        "\n"
      ],
      "metadata": {
        "id": "NZTfA0mOTOrI",
        "outputId": "b497576e-3fd6-4a6d-a4b8-753e916d0820",
        "colab": {
          "base_uri": "https://localhost:8080/"
        }
      },
      "execution_count": null,
      "outputs": [
        {
          "output_type": "execute_result",
          "data": {
            "text/plain": [
              "GradientBoostingRegressor(max_depth=2, n_estimators=85)"
            ]
          },
          "metadata": {},
          "execution_count": 151
        }
      ]
    },
    {
      "cell_type": "markdown",
      "source": [
        "It is also possible to implement early stopping by actually stopping training early. The following code stops training when the validation error does not improve for five iterations in a row:"
      ],
      "metadata": {
        "id": "CdC0IMYxd741"
      }
    },
    {
      "cell_type": "code",
      "source": [
        "gbrt = GradientBoostingRegressor(max_depth=2, warm_start=True)\n",
        "\n",
        "min_val_error = float('inf')\n",
        "error_going_up = 0\n",
        "for n_estimators in range(1, 200):\n",
        "  gbrt.n_estimators = n_estimators\n",
        "  gbrt.fit(X_train, y_train)\n",
        "  y_pred = gbrt.predict(X_val)\n",
        "  val_error = mean_squared_error(y_val, y_pred)\n",
        "  if val_error < min_val_error:\n",
        "    min_val_error = val_error\n",
        "    error_going_up = 0\n",
        "  else:\n",
        "    error_going_up += 1\n",
        "    if error_going_up == 5:\n",
        "      break"
      ],
      "metadata": {
        "id": "7WOGzbYObD0C"
      },
      "execution_count": null,
      "outputs": []
    },
    {
      "cell_type": "markdown",
      "source": [
        "## Stochastic Gradient Boosting\n",
        "1. The GradientBoostingRegressor class also supports a subsample hyperparameter, which specifies the fraction of training instances to be used for training each tree. For example, if subsample=0.25, then each tree is trained on 25% of the training instances, selected randomly. This trades a higher bias for a lower variance. It also speeds up training considerably. This technique is called *Stochastic Gradient Boosting*\n",
        "2. It is worth noting that an optimized implementation of Gradient Boosting is available in the popular python library XGBoost, which stands for Extreme Gradient Boosting. It aims at being extremely fast, scalable and portable. In fact, XGBoost is often an important component of the winning entries in ML competitions. XGBoost API is quite similar to Scikit-Learn"
      ],
      "metadata": {
        "id": "VrRfikyRgRVI"
      }
    },
    {
      "cell_type": "code",
      "source": [
        "import xgboost\n",
        "xgb_reg = xgboost.XGBRegressor()\n",
        "xgb_reg.fit(X_train, y_train)\n",
        "y_pred = xgb_reg.predict(X_val)\n",
        "\n",
        "xgb_reg.fit(X_train, y_train, eval_set=[(X_val, y_val)], early_stopping_rounds=2)\n",
        "y_pred= xgb_reg.predict(X_val)\n",
        "\n"
      ],
      "metadata": {
        "id": "A6GTQcBCfUQz",
        "outputId": "45bcc61d-4934-4b1d-c227-bc4afafb9f8b",
        "colab": {
          "base_uri": "https://localhost:8080/"
        }
      },
      "execution_count": null,
      "outputs": [
        {
          "output_type": "stream",
          "name": "stdout",
          "text": [
            "[03:13:03] WARNING: /workspace/src/objective/regression_obj.cu:152: reg:linear is now deprecated in favor of reg:squarederror.\n",
            "[03:13:03] WARNING: /workspace/src/objective/regression_obj.cu:152: reg:linear is now deprecated in favor of reg:squarederror.\n",
            "[0]\tvalidation_0-rmse:0.927788\n",
            "Will train until validation_0-rmse hasn't improved in 2 rounds.\n",
            "[1]\tvalidation_0-rmse:0.844201\n",
            "[2]\tvalidation_0-rmse:0.770277\n",
            "[3]\tvalidation_0-rmse:0.70256\n",
            "[4]\tvalidation_0-rmse:0.64264\n",
            "[5]\tvalidation_0-rmse:0.587379\n",
            "[6]\tvalidation_0-rmse:0.540358\n",
            "[7]\tvalidation_0-rmse:0.496507\n",
            "[8]\tvalidation_0-rmse:0.457205\n",
            "[9]\tvalidation_0-rmse:0.422026\n",
            "[10]\tvalidation_0-rmse:0.390584\n",
            "[11]\tvalidation_0-rmse:0.36253\n",
            "[12]\tvalidation_0-rmse:0.337541\n",
            "[13]\tvalidation_0-rmse:0.313838\n",
            "[14]\tvalidation_0-rmse:0.29417\n",
            "[15]\tvalidation_0-rmse:0.276765\n",
            "[16]\tvalidation_0-rmse:0.261394\n",
            "[17]\tvalidation_0-rmse:0.24667\n",
            "[18]\tvalidation_0-rmse:0.233621\n",
            "[19]\tvalidation_0-rmse:0.220533\n",
            "[20]\tvalidation_0-rmse:0.208746\n",
            "[21]\tvalidation_0-rmse:0.19814\n",
            "[22]\tvalidation_0-rmse:0.189324\n",
            "[23]\tvalidation_0-rmse:0.184395\n",
            "[24]\tvalidation_0-rmse:0.177369\n",
            "[25]\tvalidation_0-rmse:0.17394\n",
            "[26]\tvalidation_0-rmse:0.171129\n",
            "[27]\tvalidation_0-rmse:0.165155\n",
            "[28]\tvalidation_0-rmse:0.160619\n",
            "[29]\tvalidation_0-rmse:0.15913\n",
            "[30]\tvalidation_0-rmse:0.157622\n",
            "[31]\tvalidation_0-rmse:0.155536\n",
            "[32]\tvalidation_0-rmse:0.152068\n",
            "[33]\tvalidation_0-rmse:0.151642\n",
            "[34]\tvalidation_0-rmse:0.148673\n",
            "[35]\tvalidation_0-rmse:0.148596\n",
            "[36]\tvalidation_0-rmse:0.147852\n",
            "[37]\tvalidation_0-rmse:0.147404\n",
            "[38]\tvalidation_0-rmse:0.14708\n",
            "[39]\tvalidation_0-rmse:0.145075\n",
            "[40]\tvalidation_0-rmse:0.144887\n",
            "[41]\tvalidation_0-rmse:0.147515\n",
            "[42]\tvalidation_0-rmse:0.148106\n",
            "Stopping. Best iteration:\n",
            "[40]\tvalidation_0-rmse:0.144887\n",
            "\n"
          ]
        }
      ]
    },
    {
      "cell_type": "markdown",
      "source": [
        "## Stacking\n",
        "Another ensemble is stacking (stacked generalization)."
      ],
      "metadata": {
        "id": "aGik8_l6892Y"
      }
    },
    {
      "cell_type": "code",
      "source": [],
      "metadata": {
        "id": "SlFROWK87uf-"
      },
      "execution_count": null,
      "outputs": []
    }
  ]
}