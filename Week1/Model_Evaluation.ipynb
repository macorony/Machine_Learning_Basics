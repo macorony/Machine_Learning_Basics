{
  "cells": [
    {
      "cell_type": "markdown",
      "metadata": {
        "id": "view-in-github",
        "colab_type": "text"
      },
      "source": [
        "<a href=\"https://colab.research.google.com/github/macorony/Python-ML-60-day-Journey/blob/main/Week1/Model_Evaluation.ipynb\" target=\"_parent\"><img src=\"https://colab.research.google.com/assets/colab-badge.svg\" alt=\"Open In Colab\"/></a>"
      ]
    },
    {
      "cell_type": "markdown",
      "source": [
        "### Day1 (2022-01-23)"
      ],
      "metadata": {
        "id": "HPsX78-MAXTp"
      }
    },
    {
      "cell_type": "code",
      "execution_count": null,
      "metadata": {
        "colab": {
          "base_uri": "https://localhost:8080/"
        },
        "id": "3Ltg1eDKqDm1",
        "outputId": "67dea420-2f8c-40cf-cf61-072d610ee16c"
      },
      "outputs": [
        {
          "output_type": "stream",
          "name": "stdout",
          "text": [
            "Requirement already satisfied: mglearn in /usr/local/lib/python3.7/dist-packages (0.1.9)\n",
            "Requirement already satisfied: pillow in /usr/local/lib/python3.7/dist-packages (from mglearn) (7.1.2)\n",
            "Requirement already satisfied: cycler in /usr/local/lib/python3.7/dist-packages (from mglearn) (0.11.0)\n",
            "Requirement already satisfied: pandas in /usr/local/lib/python3.7/dist-packages (from mglearn) (1.1.5)\n",
            "Requirement already satisfied: scikit-learn in /usr/local/lib/python3.7/dist-packages (from mglearn) (1.0.2)\n",
            "Requirement already satisfied: matplotlib in /usr/local/lib/python3.7/dist-packages (from mglearn) (3.2.2)\n",
            "Requirement already satisfied: imageio in /usr/local/lib/python3.7/dist-packages (from mglearn) (2.4.1)\n",
            "Requirement already satisfied: numpy in /usr/local/lib/python3.7/dist-packages (from mglearn) (1.19.5)\n",
            "Requirement already satisfied: joblib in /usr/local/lib/python3.7/dist-packages (from mglearn) (1.1.0)\n",
            "Requirement already satisfied: python-dateutil>=2.1 in /usr/local/lib/python3.7/dist-packages (from matplotlib->mglearn) (2.8.2)\n",
            "Requirement already satisfied: kiwisolver>=1.0.1 in /usr/local/lib/python3.7/dist-packages (from matplotlib->mglearn) (1.3.2)\n",
            "Requirement already satisfied: pyparsing!=2.0.4,!=2.1.2,!=2.1.6,>=2.0.1 in /usr/local/lib/python3.7/dist-packages (from matplotlib->mglearn) (3.0.7)\n",
            "Requirement already satisfied: six>=1.5 in /usr/local/lib/python3.7/dist-packages (from python-dateutil>=2.1->matplotlib->mglearn) (1.15.0)\n",
            "Requirement already satisfied: pytz>=2017.2 in /usr/local/lib/python3.7/dist-packages (from pandas->mglearn) (2018.9)\n",
            "Requirement already satisfied: scipy>=1.1.0 in /usr/local/lib/python3.7/dist-packages (from scikit-learn->mglearn) (1.4.1)\n",
            "Requirement already satisfied: threadpoolctl>=2.0.0 in /usr/local/lib/python3.7/dist-packages (from scikit-learn->mglearn) (3.0.0)\n"
          ]
        }
      ],
      "source": [
        "!pip install mglearn\n"
      ]
    },
    {
      "cell_type": "code",
      "execution_count": null,
      "metadata": {
        "id": "mcejo0nSqiyW"
      },
      "outputs": [],
      "source": [
        "import mglearn\n",
        "import numpy as np\n",
        "import pandas as pd\n",
        "from scipy import sparse # The most important part of scipy is sparse providing sparse matrices.\n",
        "import matplotlib.pyplot as plt\n",
        "%matplotlib inline  \n",
        "# Render a figure in the notebook rather than display a object. \n",
        "import missingno as msno\n",
        "import seaborn as sns\n",
        "from sklearn.preprocessing import PolynomialFeatures\n",
        "from sklearn.preprocessing import OneHotEncoder\n",
        "from sklearn.feature_selection import SelectPercentile\n",
        "from sklearn.model_selection import train_test_split\n",
        "from sklearn.feature_selection import SelectFromModel\n",
        "from sklearn.feature_selection import f_regression\n",
        "from sklearn.ensemble import RandomForestClassifier\n",
        "from sklearn.feature_selection import RFE\n",
        "from sklearn.model_selection import cross_val_score\n",
        "from sklearn.model_selection import KFold\n",
        "from sklearn.model_selection import LeaveOneOut\n",
        "from sklearn.model_selection import ShuffleSplit\n",
        "from sklearn.model_selection import GroupKFold\n",
        "from sklearn.model_selection import GridSearchCV\n",
        "from sklearn.svm import SVR\n",
        "from sklearn.svm import SVC\n",
        "from sklearn.linear_model import LinearRegression\n",
        "from sklearn.linear_model import LogisticRegression\n",
        "from sklearn.linear_model import Ridge\n",
        "from sklearn.linear_model import Lasso\n",
        "from sklearn.linear_model import ElasticNet\n",
        "from sklearn.neighbors import KNeighborsRegressor\n",
        "from sklearn.tree import DecisionTreeRegressor\n",
        "from sklearn.cluster import KMeans\n",
        "from sklearn.cluster import AgglomerativeClustering\n",
        "from sklearn.decomposition import PCA\n"
      ]
    },
    {
      "cell_type": "code",
      "execution_count": null,
      "metadata": {
        "id": "4_TovBR7XCyV"
      },
      "outputs": [],
      "source": [
        "# load dataset of iris\n",
        "from sklearn.datasets import load_iris\n",
        "from sklearn.model_selection import ParameterGrid, StratifiedKFold\n",
        "iris = load_iris()\n"
      ]
    },
    {
      "cell_type": "code",
      "execution_count": null,
      "metadata": {
        "colab": {
          "base_uri": "https://localhost:8080/"
        },
        "id": "V0yV850iaYM1",
        "outputId": "24220e26-45c8-4c09-f63a-90326b4471c0"
      },
      "outputs": [
        {
          "output_type": "stream",
          "name": "stdout",
          "text": [
            "[{'kernel': ['rbf'], 'C': [0.001, 0.01, 0.1, 1, 10, 100], 'gamma': [0.001, 0.01, 0.1, 1, 10, 100]}, {'kernel': ['linear'], 'C': [0.001, 0.01, 0.1, 1, 10, 100]}]\n"
          ]
        }
      ],
      "source": [
        "param_grid = [{'kernel': ['rbf'], \n",
        "               'C': [0.001, 0.01, 0.1, 1, 10, 100],\n",
        "               'gamma': [0.001, 0.01, 0.1, 1, 10, 100]}, \n",
        "              {'kernel': ['linear'], \n",
        "               'C': [0.001, 0.01, 0.1, 1, 10, 100]}]\n",
        "print(param_grid)"
      ]
    },
    {
      "cell_type": "code",
      "source": [
        ""
      ],
      "metadata": {
        "id": "-IcGTnyhDM1-"
      },
      "execution_count": null,
      "outputs": []
    },
    {
      "cell_type": "code",
      "execution_count": null,
      "metadata": {
        "id": "AtjPnar3adBh"
      },
      "outputs": [],
      "source": [
        "def nested_cv(X, y, inner_cv, outer_cv, classifier, parameter_grid):\n",
        "    outer_scores = []\n",
        "    # for each split of the data in the outer cross-validation\n",
        "    for training_samples, test_samples in outer_cv.split(X, y):\n",
        "        # find the best parameter using inner cross-validation\n",
        "        best_parameter = {}\n",
        "        best_score = -np.inf\n",
        "        # iterate over parameters\n",
        "        for parameter in parameter_grid:\n",
        "            # accumulate score over inner splits\n",
        "            cv_scores =[]\n",
        "            # iterate over inner cross-validation\n",
        "            for inner_train, inner_test in inner_cv.split(X[training_samples], y[training_samples]):\n",
        "                clf = classifier(**parameter)\n",
        "                clf.fit(X[inner_train], y[inner_train])\n",
        "                # evalueate on inner test set\n",
        "                score = clf.score(X[inner_test], y[inner_test])\n",
        "                cv_scores.append(score)\n",
        "            # compute mean score over inner folds\n",
        "            mean_score = np.mean(cv_scores)\n",
        "            if mean_score > best_score:\n",
        "                # if better than so far, remembre parameters\n",
        "                best_score = mean_score\n",
        "                best_params = parameter\n",
        "        clf = classifier(**best_params)\n",
        "        clf.fit(X[training_samples], y[training_samples])\n",
        "        # evaluate\n",
        "        outer_scores.append(clf.score(X[test_samples], y[test_samples]))\n",
        "    return np.array(outer_scores)\n",
        "                "
      ]
    },
    {
      "cell_type": "code",
      "execution_count": null,
      "metadata": {
        "id": "PTEi0f3Cs3Yb"
      },
      "outputs": [],
      "source": [
        "scores = nested_cv(iris.data, iris.target, StratifiedKFold(5), StratifiedKFold(5), SVC, ParameterGrid(param_grid))"
      ]
    },
    {
      "cell_type": "code",
      "execution_count": null,
      "metadata": {
        "colab": {
          "base_uri": "https://localhost:8080/"
        },
        "id": "6K0KNbnbs3hf",
        "outputId": "dc8288b8-73f2-4024-a0a2-370f8f68a20a"
      },
      "outputs": [
        {
          "output_type": "stream",
          "name": "stdout",
          "text": [
            "[0.96666667 1.         0.96666667 0.96666667 1.        ]\n"
          ]
        }
      ],
      "source": [
        "print(scores)"
      ]
    },
    {
      "cell_type": "code",
      "source": [
        ""
      ],
      "metadata": {
        "id": "9kcS1ucBm5Yj"
      },
      "execution_count": null,
      "outputs": []
    },
    {
      "cell_type": "markdown",
      "source": [
        "### Day2(2022-01-24) \n",
        "### Metric for Binary Classification\n",
        "Often, accuracy is not a good measurement for model evaluation. for example, we develop a early cancer screening test indicating either positive or negative results. The positive means the presence of cancer and need additional test while the negative means the patient free of cancer. In this case, the accuracy is not a reliable measurement as accuracy is the total number of correct predictions divided by the number all samples. Think a little bit further, American Institute for Cancer Research report that at the global the age-standardised rate for all cancer combined was 197.9 per 100,000 in 2018, close to 0.2%. Cancer Occurrence is still a rare event. That brings a challenging fact that the predictive model has to consider the unbalance between positive and negative outcome. It is obvious that the negative result will dominate the screening test. In the extreme case, we can cunningly label all the test as negative and the accuracy can still be impressively 99.8%. Let's take an example how an unbalanced data can achieve a impressive accuracy scheme.  "
      ],
      "metadata": {
        "id": "C1sj2-JUm5zv"
      }
    },
    {
      "cell_type": "code",
      "source": [
        "# modules input\n",
        "from sklearn.datasets import load_digits\n",
        "from sklearn.linear_model import LinearRegression\n",
        "from sklearn.model_selection import train_test_split\n",
        "from sklearn.dummy import DummyClassifier"
      ],
      "metadata": {
        "id": "yiDJKvgGnXgZ"
      },
      "execution_count": null,
      "outputs": []
    },
    {
      "cell_type": "code",
      "source": [
        "# input data\n",
        "# we can design a dataset, temporarily use digits as an example \n",
        "digit_data = load_digits()\n",
        "print(f'The dimension of input variable: {digit_data.data.shape}')\n",
        "print(f'The dimension of target variable: {digit_data.target.shape}')\n"
      ],
      "metadata": {
        "colab": {
          "base_uri": "https://localhost:8080/"
        },
        "id": "S4YaFbaSww5K",
        "outputId": "7edd3a8f-59b4-47db-e7c2-1144c46af6bd"
      },
      "execution_count": null,
      "outputs": [
        {
          "output_type": "stream",
          "name": "stdout",
          "text": [
            "The dimension of input variable: (1797, 64)\n",
            "The dimension of target variable: (1797,)\n"
          ]
        }
      ]
    },
    {
      "cell_type": "code",
      "source": [
        "y =  digit_data.target == 9\n",
        "X_train, X_test, y_train, y_test = train_test_split(digit_data.data, y, random_state=1)\n",
        "# DummyClassifier makes predication regardless of input features. \n",
        "# It serves as a simple and nonsense base line compared against other meaningful models.\n",
        "# to apply cross-validation and grid search method in future\n",
        "dummy_majority = DummyClassifier(strategy='most_frequent').fit(X_train, y_train)\n",
        "pred_outcome = dummy_majority.predict(X_test)\n",
        "print(f'Test score: {dummy_majority.score(X_test, y_test)}')"
      ],
      "metadata": {
        "colab": {
          "base_uri": "https://localhost:8080/"
        },
        "id": "rEGhctpCxbQs",
        "outputId": "1e5cfbee-7dae-46a0-a678-29341ac3d745"
      },
      "execution_count": null,
      "outputs": [
        {
          "output_type": "stream",
          "name": "stdout",
          "text": [
            "Test score: 0.8933333333333333\n"
          ]
        }
      ]
    },
    {
      "cell_type": "markdown",
      "source": [
        "The accuracy score strongly indicates that how meaningless to use accuracy to measure model performance. What DummyClassifier did is just to predict most frequent event like we label all the cancer screening test as negative. because the negative events take up unbalanced high percentage in the total event, we can safely and easily get a lot of right prediction at very low cost of false prediction. The accuracy only measuring total correct predictions and it take take advantage of the unbalanced data achieving high accuracy.   "
      ],
      "metadata": {
        "id": "UULn4dqm2ruQ"
      }
    },
    {
      "cell_type": "markdown",
      "source": [
        "### Day3 (2022-01-25)\n",
        "### Confusion Matrix"
      ],
      "metadata": {
        "id": "wbNKXNmEa_A-"
      }
    },
    {
      "cell_type": "code",
      "source": [
        "# module input \n",
        "from sklearn.metrics import confusion_matrix\n",
        "from sklearn.metrics import f1_score\n",
        "from sklearn.metrics import classification_report"
      ],
      "metadata": {
        "id": "d5LU1ZrA3ZAn"
      },
      "execution_count": null,
      "outputs": []
    },
    {
      "cell_type": "code",
      "source": [
        "print(confusion_matrix(y_test, pred_outcome))"
      ],
      "metadata": {
        "id": "yv8mqwT2xccj",
        "colab": {
          "base_uri": "https://localhost:8080/"
        },
        "outputId": "e73efc83-6b8c-4c1e-9c2f-822791e08980"
      },
      "execution_count": null,
      "outputs": [
        {
          "output_type": "stream",
          "name": "stdout",
          "text": [
            "[[402   0]\n",
            " [ 48   0]]\n"
          ]
        }
      ]
    },
    {
      "cell_type": "code",
      "source": [
        "print(f1_score(y_test, pred_outcome))"
      ],
      "metadata": {
        "colab": {
          "base_uri": "https://localhost:8080/"
        },
        "id": "J-0QcBuMf81I",
        "outputId": "d0fd6a4e-fe36-41f8-fe15-51714b765191"
      },
      "execution_count": null,
      "outputs": [
        {
          "output_type": "stream",
          "name": "stdout",
          "text": [
            "0.0\n"
          ]
        }
      ]
    },
    {
      "cell_type": "code",
      "source": [
        "print(classification_report(y_test, pred_outcome))"
      ],
      "metadata": {
        "colab": {
          "base_uri": "https://localhost:8080/"
        },
        "id": "4Mmaxr23j1vR",
        "outputId": "d12b3068-cb45-41d8-8487-ac5d8a636d12"
      },
      "execution_count": null,
      "outputs": [
        {
          "output_type": "stream",
          "name": "stdout",
          "text": [
            "              precision    recall  f1-score   support\n",
            "\n",
            "       False       0.89      1.00      0.94       402\n",
            "        True       0.00      0.00      0.00        48\n",
            "\n",
            "    accuracy                           0.89       450\n",
            "   macro avg       0.45      0.50      0.47       450\n",
            "weighted avg       0.80      0.89      0.84       450\n",
            "\n"
          ]
        },
        {
          "output_type": "stream",
          "name": "stderr",
          "text": [
            "/usr/local/lib/python3.7/dist-packages/sklearn/metrics/_classification.py:1318: UndefinedMetricWarning: Precision and F-score are ill-defined and being set to 0.0 in labels with no predicted samples. Use `zero_division` parameter to control this behavior.\n",
            "  _warn_prf(average, modifier, msg_start, len(result))\n",
            "/usr/local/lib/python3.7/dist-packages/sklearn/metrics/_classification.py:1318: UndefinedMetricWarning: Precision and F-score are ill-defined and being set to 0.0 in labels with no predicted samples. Use `zero_division` parameter to control this behavior.\n",
            "  _warn_prf(average, modifier, msg_start, len(result))\n",
            "/usr/local/lib/python3.7/dist-packages/sklearn/metrics/_classification.py:1318: UndefinedMetricWarning: Precision and F-score are ill-defined and being set to 0.0 in labels with no predicted samples. Use `zero_division` parameter to control this behavior.\n",
            "  _warn_prf(average, modifier, msg_start, len(result))\n"
          ]
        }
      ]
    },
    {
      "cell_type": "code",
      "source": [
        "from mglearn.datasets import make_blobs"
      ],
      "metadata": {
        "id": "ykS9QlrakM66"
      },
      "execution_count": null,
      "outputs": []
    },
    {
      "cell_type": "code",
      "source": [
        "X, y = make_blobs(n_samples=(400,50), centers=2, cluster_std=[7.0,2], random_state=22)\n",
        "X_train, X_test, y_train, y_test = train_test_split(X, y, random_state=0)\n",
        "svc = SVC(gamma=0.5).fit(X_train, y_train)"
      ],
      "metadata": {
        "colab": {
          "base_uri": "https://localhost:8080/"
        },
        "id": "t_4y3XLSmccn",
        "outputId": "dd5ead20-b75a-4381-824b-30c853a692e1"
      },
      "execution_count": null,
      "outputs": [
        {
          "output_type": "stream",
          "name": "stderr",
          "text": [
            "/usr/local/lib/python3.7/dist-packages/sklearn/utils/deprecation.py:87: FutureWarning: Function make_blobs is deprecated; Please import make_blobs directly from scikit-learn\n",
            "  warnings.warn(msg, category=FutureWarning)\n"
          ]
        }
      ]
    },
    {
      "cell_type": "code",
      "source": [
        "print(classification_report(y_test, svc.predict(X_test)))"
      ],
      "metadata": {
        "colab": {
          "base_uri": "https://localhost:8080/"
        },
        "id": "ddVvlRPBnlzt",
        "outputId": "808f581b-cbc3-47bd-ebd3-4db05c8abbad"
      },
      "execution_count": null,
      "outputs": [
        {
          "output_type": "stream",
          "name": "stdout",
          "text": [
            "              precision    recall  f1-score   support\n",
            "\n",
            "           0       0.94      0.88      0.91       104\n",
            "           1       0.20      0.33      0.25         9\n",
            "\n",
            "    accuracy                           0.84       113\n",
            "   macro avg       0.57      0.61      0.58       113\n",
            "weighted avg       0.88      0.84      0.86       113\n",
            "\n"
          ]
        }
      ]
    },
    {
      "cell_type": "code",
      "source": [
        "mglearn.plots.plot_decision_threshold()"
      ],
      "metadata": {
        "colab": {
          "base_uri": "https://localhost:8080/",
          "height": 516
        },
        "id": "DXx9RP9nmrOW",
        "outputId": "5f516d1d-7551-4f6c-8b15-a75c4c3b56bc"
      },
      "execution_count": null,
      "outputs": [
        {
          "output_type": "display_data",
          "data": {
            "image/png": "[encoded data removed]",
            "text/plain": [
              "<Figure size 1080x576 with 6 Axes>"
            ]
          },
          "metadata": {}
        }
      ]
    },
    {
      "cell_type": "markdown",
      "source": [
        "### Day4 (2022-01-26)\n",
        "### Decision Function\n",
        "Decision function is a method present in classifier (SVC, Logistic Regression) class of sklearn machine learning framework. This method basically returns a Numpy array, in which each element represents whether a predicted sample for x_test by the classifier lies to the right or left side of the hyperplane and also how far from the hyperplane"
      ],
      "metadata": {
        "id": "hpSqzx0hlsQU"
      }
    },
    {
      "cell_type": "code",
      "source": [
        "# A code example from https://www.geeksforgeeks.org/ml-decision-function/\n",
        "import matplotlib.pyplot as plt\n",
        "import numpy as np"
      ],
      "metadata": {
        "id": "GUOdD3aXnFlF"
      },
      "execution_count": null,
      "outputs": []
    },
    {
      "cell_type": "code",
      "source": [
        "x = np.array([[2, 1.5], [-2, -1], [-1, -1], [2, 1], [1, 5], [0.5, 0.5], [-2, 0.5]])\n",
        "y = np.array([0, 0, 1, 1, 1, 1, 0])"
      ],
      "metadata": {
        "id": "u5I3Wm2sjD7f"
      },
      "execution_count": null,
      "outputs": []
    },
    {
      "cell_type": "code",
      "source": [
        "x_train, x_test = x[0:4], x[4:] \n",
        "y_train, y_test = y[0:4], y[4:]"
      ],
      "metadata": {
        "id": "Y7NTYf8SoGHL"
      },
      "execution_count": null,
      "outputs": []
    },
    {
      "cell_type": "code",
      "source": [
        ""
      ],
      "metadata": {
        "id": "R1sEeOUCqTwF"
      },
      "execution_count": null,
      "outputs": []
    },
    {
      "cell_type": "code",
      "source": [
        "plt.scatter(x[:, 0], x[:, 1], c=y)\n",
        "plt.xlabel('Feature 1')\n",
        "plt.ylabel('Feature 2')\n",
        "plt.title('Created Data')"
      ],
      "metadata": {
        "colab": {
          "base_uri": "https://localhost:8080/",
          "height": 312
        },
        "id": "ysdFWVyTocs-",
        "outputId": "4a2bf458-0b47-4a97-ba72-82db1d000c4d"
      },
      "execution_count": null,
      "outputs": [
        {
          "output_type": "execute_result",
          "data": {
            "text/plain": [
              "Text(0.5, 1.0, 'Created Data')"
            ]
          },
          "metadata": {},
          "execution_count": 53
        },
        {
          "output_type": "display_data",
          "data": {
            "image/png": "[encoded data removed]",
            "text/plain": [
              "<Figure size 432x288 with 1 Axes>"
            ]
          },
          "metadata": {
            "needs_background": "light"
          }
        }
      ]
    },
    {
      "cell_type": "code",
      "source": [
        "from sklearn.svm import SVC\n",
        "clf = SVC()"
      ],
      "metadata": {
        "id": "Q9bF-2uhoedf"
      },
      "execution_count": null,
      "outputs": []
    },
    {
      "cell_type": "code",
      "source": [
        "clf.fit(x_train, y_train)"
      ],
      "metadata": {
        "colab": {
          "base_uri": "https://localhost:8080/"
        },
        "id": "LE5XyHNko9fx",
        "outputId": "b3535bfd-a1fe-45ae-f720-bca639f82897"
      },
      "execution_count": null,
      "outputs": [
        {
          "output_type": "execute_result",
          "data": {
            "text/plain": [
              "SVC()"
            ]
          },
          "metadata": {},
          "execution_count": 55
        }
      ]
    },
    {
      "cell_type": "code",
      "source": [
        "# predict test set\n",
        "predict = clf.predict(x_test)\n",
        "print('Predicted values from classifier:', predict)\n",
        "print('Actual output is:', y_test)\n",
        "print('Accuracy of the model is:', clf.score(x_test, y_test))"
      ],
      "metadata": {
        "colab": {
          "base_uri": "https://localhost:8080/"
        },
        "id": "hJ0lyJX2qBPm",
        "outputId": "eec04e16-ed05-482c-973a-850cad43097b"
      },
      "execution_count": null,
      "outputs": [
        {
          "output_type": "stream",
          "name": "stdout",
          "text": [
            "Predicted values from classifier: [0 1 0]\n",
            "Actual output is: [1 1 0]\n",
            "Accuracy of the model is: 0.6666666666666666\n"
          ]
        }
      ]
    },
    {
      "cell_type": "code",
      "source": [
        "# using decision function method present in svc class\n",
        "decision_function = clf.decision_function(x_test)\n",
        "print('Output of decision function is:', decision_function)\n",
        "print('Prediction for x_test from classifier is:', predict)"
      ],
      "metadata": {
        "colab": {
          "base_uri": "https://localhost:8080/"
        },
        "id": "RcMq3xe2qHWG",
        "outputId": "2703dd84-e7bd-4c89-c570-0652e03d4ae3"
      },
      "execution_count": null,
      "outputs": [
        {
          "output_type": "stream",
          "name": "stdout",
          "text": [
            "Output of decision function is: [-0.04274893  0.29143233 -0.13001369]\n",
            "Prediction for x_test from classifier is: [0 1 0]\n"
          ]
        }
      ]
    },
    {
      "cell_type": "code",
      "source": [
        "# plot the decision boudary\n",
        "arr1 = np.arange(x[:, 0].min()-1, x[:, 0].max()+1, 0.01)\n",
        "arr2 = np.arange(x[:, 1].min()-1, x[:, 1].max()+1, 0.01)\n",
        "xx, yy = np.meshgrid(arr1, arr2)\n",
        "input_array = np.array([xx.ravel(), yy.ravel()]).T\n",
        "labels = clf.predict(input_array)"
      ],
      "metadata": {
        "id": "0QiSEQj10dZo"
      },
      "execution_count": null,
      "outputs": []
    },
    {
      "cell_type": "code",
      "source": [
        "plt.figure(figsize = (10, 7))\n",
        "plt.contourf(xx, yy, labels.reshape(xx.shape), alpha = 0.3)\n",
        "plt.scatter(x_test[:, 0], x_test[:,1], c = y_test.ravel(), alpha = 1)\n",
        "plt.xlabel('Feature1')\n",
        "plt.ylabel('Feature2')\n",
        "plt.title('Decision Boundary')"
      ],
      "metadata": {
        "colab": {
          "base_uri": "https://localhost:8080/",
          "height": 475
        },
        "id": "n1G9fntE0diL",
        "outputId": "50349f91-50d4-44b7-aece-ae3d93887010"
      },
      "execution_count": null,
      "outputs": [
        {
          "output_type": "execute_result",
          "data": {
            "text/plain": [
              "Text(0.5, 1.0, 'Decision Boundary')"
            ]
          },
          "metadata": {},
          "execution_count": 59
        },
        {
          "output_type": "display_data",
          "data": {
            "image/png": "[encoded data removed]",
            "text/plain": [
              "<Figure size 720x504 with 1 Axes>"
            ]
          },
          "metadata": {
            "needs_background": "light"
          }
        }
      ]
    },
    {
      "cell_type": "markdown",
      "source": [
        "### Day5 (2022-01-27)\n",
        "### Precision-recall curves and ROC curves"
      ],
      "metadata": {
        "id": "__Awbg2-hVe7"
      }
    },
    {
      "cell_type": "markdown",
      "source": [
        "### Decision threshold\n",
        "sklearn does not let us set the decision threshold directly, but it gives the access to decision scores that is used to make the prediction. We can select the best score from decision function output and set it as **Decision Threshold** value and consider all those decision score values which are less than this Decision Threshold as a negative class (0) and all those decision score values that are greater than this decision threshold value as a positive class (1).\n",
        "Using **Precison-Recall Curve** for various decision threshold values, we can select the best value for decision threshold such that it gives High Precision or High Recall based on whether our object is precision-oriented or recall-oriented respectively"
      ],
      "metadata": {
        "id": "AmEhmNaF3kRS"
      }
    },
    {
      "cell_type": "code",
      "source": [
        "from sklearn.metrics import precision_recall_curve"
      ],
      "metadata": {
        "id": "92_YxHj3nIby"
      },
      "execution_count": null,
      "outputs": []
    },
    {
      "cell_type": "code",
      "source": [
        "# precision_recall_curve is the function to compute precision-recall-pairs for different probability thresholds\n",
        "# example code indicating how the function works\n",
        "y_true = np.array([0, 0, 1, 1])\n",
        "y_scores = np.array([0.1, 0.4, 0.35, 0.8])\n",
        "precision, recall, thresholds = precision_recall_curve(y_true, y_scores)\n",
        "print(precision)\n",
        "print(recall)\n",
        "print(thresholds)"
      ],
      "metadata": {
        "id": "Qne_jXE0oPQu",
        "outputId": "e84bfd38-e35a-4d21-de0e-4d00ef16bc32",
        "colab": {
          "base_uri": "https://localhost:8080/"
        }
      },
      "execution_count": null,
      "outputs": [
        {
          "output_type": "stream",
          "name": "stdout",
          "text": [
            "[0.66666667 0.5        1.         1.        ]\n",
            "[1.  0.5 0.5 0. ]\n",
            "[0.35 0.4  0.8 ]\n"
          ]
        }
      ]
    },
    {
      "cell_type": "code",
      "source": [
        "X, y = make_blobs(n_samples=(4000, 5000), centers=2, cluster_std=[7.0, 2], random_state=22)\n",
        "X_train, X_test, y_train, y_test = train_test_split(X, y, random_state=0)\n",
        "svc = SVC(gamma=0.05).fit(X_train, y_train)\n",
        "precision, recall, thresholds = precision_recall_curve(y_test, svc.decision_function(X_test))\n",
        "# find threshold closest to zero, the default threshold for decision_function\n",
        "# a trade-off that is chosen when calling the predict method\n",
        "close_zero = np.argmin(np.abs(thresholds))\n"
      ],
      "metadata": {
        "colab": {
          "base_uri": "https://localhost:8080/"
        },
        "id": "reIHA9wV2tCt",
        "outputId": "7de909aa-7d38-4fd4-d5a4-b0c2f2f6ffde"
      },
      "execution_count": null,
      "outputs": [
        {
          "output_type": "stream",
          "name": "stderr",
          "text": [
            "/usr/local/lib/python3.7/dist-packages/sklearn/utils/deprecation.py:87: FutureWarning: Function make_blobs is deprecated; Please import make_blobs directly from scikit-learn\n",
            "  warnings.warn(msg, category=FutureWarning)\n"
          ]
        }
      ]
    },
    {
      "cell_type": "code",
      "source": [
        "precision[close_zero], recall[close_zero], thresholds[close_zero]"
      ],
      "metadata": {
        "id": "2faGk_B9kY8w",
        "outputId": "ad6dcd65-818b-4430-9550-64e69109b30f",
        "colab": {
          "base_uri": "https://localhost:8080/"
        }
      },
      "execution_count": null,
      "outputs": [
        {
          "output_type": "execute_result",
          "data": {
            "text/plain": [
              "(0.8855291576673866, 0.9863672814755413, 0.011036142482385936)"
            ]
          },
          "metadata": {},
          "execution_count": 87
        }
      ]
    },
    {
      "cell_type": "code",
      "source": [
        "plt.plot(precision[close_zero], recall[close_zero], 'o', markersize=10, label='threshold zero',\n",
        "         fillstyle='none', c='k', mew=2)\n",
        "plt.plot(precision, recall, label='precision recall curve')\n",
        "plt.xlabel('precision')\n",
        "plt.ylabel('recall')"
      ],
      "metadata": {
        "id": "0f6gtVyUy-B2",
        "outputId": "3a4b2fd3-144b-4938-e502-3d3c351604c2",
        "colab": {
          "base_uri": "https://localhost:8080/",
          "height": 296
        }
      },
      "execution_count": null,
      "outputs": [
        {
          "output_type": "execute_result",
          "data": {
            "text/plain": [
              "Text(0, 0.5, 'recall')"
            ]
          },
          "metadata": {},
          "execution_count": 88
        },
        {
          "output_type": "display_data",
          "data": {
            "image/png": "[encoded data removed]",
            "text/plain": [
              "<Figure size 432x288 with 1 Axes>"
            ]
          },
          "metadata": {
            "needs_background": "light"
          }
        }
      ]
    },
    {
      "cell_type": "markdown",
      "source": [
        "The curve starts at the top-left corner, corresponding to very low threshold, classifying everything as the positive class. Raising the threshold moves the curve toward higher precision, but lower recall. Raising the threshold more and more, we get to a situation where most of the points classified as being positive are true positive, leading to a very precision but lower recall. on the top left the curve is relative flat, meaning that recall does not go down a lot when we require increased precision."
      ],
      "metadata": {
        "id": "30kld9EN7nLD"
      }
    },
    {
      "cell_type": "code",
      "source": [
        "from sklearn.ensemble import RandomForestClassifier\n",
        "rf = RandomForestClassifier(n_estimators=100, random_state=0, max_features=2)\n",
        "rf.fit(X_train, y_train)"
      ],
      "metadata": {
        "id": "GCo33Ku3kgcg",
        "outputId": "707b39f5-7663-4562-9c75-71e0be0153cd",
        "colab": {
          "base_uri": "https://localhost:8080/"
        }
      },
      "execution_count": null,
      "outputs": [
        {
          "output_type": "execute_result",
          "data": {
            "text/plain": [
              "RandomForestClassifier(max_features=2, random_state=0)"
            ]
          },
          "metadata": {},
          "execution_count": 89
        }
      ]
    },
    {
      "cell_type": "code",
      "source": [
        "precision_rf, recall_rf, thresholds_rf = precision_recall_curve(y_test, rf.predict_proba(X_test)[:, 1])\n"
      ],
      "metadata": {
        "id": "ZK5y21Do_qN8"
      },
      "execution_count": null,
      "outputs": []
    },
    {
      "cell_type": "code",
      "source": [
        "plt.plot(precision, recall, label='SVC')\n",
        "plt.plot(precision[close_zero], recall[close_zero], 'o', markersize=10, label='threshold zero svc', \n",
        "         fillstyle='none', c='k', mew=2)\n",
        "\n",
        "close_default_rf = np.argmin(np.abs(thresholds_rf - 0.5))\n",
        "plt.plot(precision_rf, recall_rf, label='RF')\n",
        "plt.plot(precision_rf[close_default_rf], recall_rf[close_default_rf], '^', c='k', \n",
        "         markersize=10, label='threshold 0.5 rf', fillstyle='none', mew=2)\n",
        "plt.xlabel('Precision')\n",
        "plt.ylabel('Recall')\n",
        "plt.legend(loc='best')\n"
      ],
      "metadata": {
        "id": "81n1n2zFAI2F",
        "outputId": "87eee9e2-4012-4553-e8e7-493f6af3b493",
        "colab": {
          "base_uri": "https://localhost:8080/",
          "height": 296
        }
      },
      "execution_count": null,
      "outputs": [
        {
          "output_type": "execute_result",
          "data": {
            "text/plain": [
              "<matplotlib.legend.Legend at 0x7f0c0fe67d10>"
            ]
          },
          "metadata": {},
          "execution_count": 95
        },
        {
          "output_type": "display_data",
          "data": {
            "image/png": "[encoded data removed]",
            "text/plain": [
              "<Figure size 432x288 with 1 Axes>"
            ]
          },
          "metadata": {
            "needs_background": "light"
          }
        }
      ]
    },
    {
      "cell_type": "markdown",
      "source": [
        "### Day6 (2022-01-28)"
      ],
      "metadata": {
        "id": "zrve1b9seCmu"
      }
    },
    {
      "cell_type": "code",
      "source": [
        ""
      ],
      "metadata": {
        "id": "EKxDDFQFeItN"
      },
      "execution_count": null,
      "outputs": []
    }
  ],
  "metadata": {
    "colab": {
      "name": "Copy of Model Evaluation.ipynb",
      "provenance": [],
      "include_colab_link": true
    },
    "kernelspec": {
      "display_name": "Python 3",
      "name": "python3"
    },
    "language_info": {
      "name": "python"
    }
  },
  "nbformat": 4,
  "nbformat_minor": 0
}