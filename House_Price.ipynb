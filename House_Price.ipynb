{
  "nbformat": 4,
  "nbformat_minor": 0,
  "metadata": {
    "colab": {
      "name": "House Price.ipynb",
      "provenance": [],
      "authorship_tag": "ABX9TyPz3iSvxJp/EgpG9PLB/4WP",
      "include_colab_link": true
    },
    "kernelspec": {
      "name": "python3",
      "display_name": "Python 3"
    },
    "language_info": {
      "name": "python"
    }
  },
  "cells": [
    {
      "cell_type": "markdown",
      "metadata": {
        "id": "view-in-github",
        "colab_type": "text"
      },
      "source": [
        "<a href=\"https://colab.research.google.com/github/macorony/Python-ML-60-day-Journey/blob/main/House_Price.ipynb\" target=\"_parent\"><img src=\"https://colab.research.google.com/assets/colab-badge.svg\" alt=\"Open In Colab\"/></a>"
      ]
    },
    {
      "cell_type": "markdown",
      "source": [
        "### Day9 (2022-01-31)\n",
        "Machine Learning on house price"
      ],
      "metadata": {
        "id": "0IbhZwNeXcBi"
      }
    },
    {
      "cell_type": "code",
      "execution_count": null,
      "metadata": {
        "id": "SwKr2Di6XXRR"
      },
      "outputs": [],
      "source": [
        "import numpy as np\n",
        "import pandas as pd\n",
        "from scipy import sparse # The most important part of scipy is sparse providing sparse matrices.\n",
        "import matplotlib.pyplot as plt\n",
        "%matplotlib inline  \n",
        "# Render a figure in the notebook rather than display a object. \n",
        "import missingno as msno\n",
        "import seaborn as sns\n",
        "from sklearn.preprocessing import PolynomialFeatures\n",
        "from sklearn.preprocessing import OneHotEncoder\n",
        "from sklearn.feature_selection import SelectPercentile\n",
        "from sklearn.model_selection import train_test_split\n",
        "from sklearn.feature_selection import SelectFromModel\n",
        "from sklearn.feature_selection import f_regression\n",
        "from sklearn.ensemble import RandomForestClassifier\n",
        "from sklearn.feature_selection import RFE\n",
        "from sklearn.model_selection import cross_val_score\n",
        "from sklearn.model_selection import KFold\n",
        "from sklearn.model_selection import LeaveOneOut\n",
        "from sklearn.model_selection import ShuffleSplit\n",
        "from sklearn.model_selection import GroupKFold\n",
        "from sklearn.model_selection import GridSearchCV\n",
        "from sklearn.model_selection import ParameterGrid, StratifiedKFold\n",
        "from sklearn.svm import SVR\n",
        "from sklearn.svm import SVC\n",
        "from sklearn.linear_model import LinearRegression\n",
        "from sklearn.linear_model import LogisticRegression\n",
        "from sklearn.linear_model import Ridge\n",
        "from sklearn.linear_model import Lasso\n",
        "from sklearn.linear_model import ElasticNet\n",
        "from sklearn.neighbors import KNeighborsRegressor\n",
        "from sklearn.tree import DecisionTreeRegressor\n",
        "from sklearn.cluster import KMeans\n",
        "from sklearn.cluster import AgglomerativeClustering\n",
        "from sklearn.decomposition import PCA"
      ]
    },
    {
      "cell_type": "markdown",
      "source": [
        "# Basic Data Exploration of training and test data combined\n",
        "1. The input variable of train and test data are concatenated\n",
        "2. The target variable of train data is independent for data exploration"
      ],
      "metadata": {
        "id": "liJiaSsuYJnS"
      }
    },
    {
      "cell_type": "code",
      "source": [
        "df_train = pd.read_csv(\"../input/house-prices-advanced-regression-techniques/train.csv\")\n",
        "X_test = pd.read_csv(\"../input/house-prices-advanced-regression-techniques/test.csv\")"
      ],
      "metadata": {
        "id": "V3HTAr5wX9Jl"
      },
      "execution_count": null,
      "outputs": []
    },
    {
      "cell_type": "code",
      "source": [
        "X_train, y_train = df_train.iloc[:,:-1], df_train.iloc[:,-1]"
      ],
      "metadata": {
        "id": "DQJIeUSyX_Dh"
      },
      "execution_count": null,
      "outputs": []
    },
    {
      "cell_type": "markdown",
      "source": [
        "# Basic Data Exploration of training and test data combined\n",
        "1. The input variable of train and test data are concatenated\n",
        "2. The target variable of train data is independent for data exploration"
      ],
      "metadata": {
        "id": "eiwfNrI8Yiro"
      }
    },
    {
      "cell_type": "code",
      "source": [
        "# Inspect columns of training data are consistent with test data \n",
        "print(X_train.shape)\n",
        "print(X_test.shape)\n",
        "print(y_train.shape)\n",
        "X_train.columns == X_test.columns"
      ],
      "metadata": {
        "id": "7JOHC31aX_HG"
      },
      "execution_count": null,
      "outputs": []
    },
    {
      "cell_type": "code",
      "source": [
        "# characterizing training data\n",
        "print(\"Training data shape: \\n{}\".format(X_train.shape))\n",
        "print(\"\\nFeature names: \\n{}\".format(X_train.columns))\n",
        "print(\"\\nData type of dependent variable: {}\".format(X_train.dtypes))\n",
        "print(\"\\nData type of target variable: {}\".format(y_train.dtype))"
      ],
      "metadata": {
        "id": "uG7q7MFEX_KA"
      },
      "execution_count": null,
      "outputs": []
    },
    {
      "cell_type": "code",
      "source": [
        "print(\"First five rows of data: \\n\", X_train.head())\n",
        "print (\"Summary of training data: \\n\", X_train.describe())"
      ],
      "metadata": {
        "id": "QPagI3T_X_NJ"
      },
      "execution_count": null,
      "outputs": []
    },
    {
      "cell_type": "code",
      "source": [
        "# characterizing the test data\n",
        "print(\"Test data shape: \\n{}\".format(X_test.shape))\n",
        "print(\"\\nFeature names: \\n{}\".format(X_test.columns))\n",
        "print(\"\\nData type of dependent variable: {}\".format(X_test.dtypes))"
      ],
      "metadata": {
        "id": "DkFCClJKX_QV"
      },
      "execution_count": null,
      "outputs": []
    },
    {
      "cell_type": "code",
      "source": [
        "print(\"First five rows of test data: \\n\", X_test.head())\n",
        "print (\"Summary of test data: \\n\", X_test.describe())"
      ],
      "metadata": {
        "id": "iYcwR-ghZGv2"
      },
      "execution_count": null,
      "outputs": []
    },
    {
      "cell_type": "code",
      "source": [
        "# There are two types of dependent variables: categorical and numerical\n",
        "num_features = [i for i in X_train if X_train[i].dtype != \"object\"]\n",
        "cate_features = [i for i in X_train if X_train[i].dtype == \"object\"]\n",
        "print(\"There are {0} numeric features and {1} categorical features\\n\".format(len(num_features), len(cate_features)))\n",
        "print(\"The numerica features:\", num_features, '\\n')\n",
        "print(\"The categorical feature:\", cate_features)\n",
        "# Some features' data types are numeric but they may be possible to act as categorical variable.\n",
        "# We need to explore into that"
      ],
      "metadata": {
        "id": "GZK4LvwdZItM"
      },
      "execution_count": null,
      "outputs": []
    },
    {
      "cell_type": "markdown",
      "source": [
        "# Missing Values\n",
        "1. Detect missing values\n",
        "2. Handle missing values"
      ],
      "metadata": {
        "id": "SGKPeIi_ZLBi"
      }
    },
    {
      "cell_type": "code",
      "source": [
        "# concatenate the train and test data\n",
        "X_global = pd.concat([X_train, X_test], ignore_index=True)\n",
        "print('Global data shape:', X_global.shape)\n",
        "print(X_global.tail())"
      ],
      "metadata": {
        "id": "mrFKGdgfZJSZ"
      },
      "execution_count": null,
      "outputs": []
    },
    {
      "cell_type": "code",
      "source": [
        "msno.matrix(X_global)"
      ],
      "metadata": {
        "id": "ZW6ARQjMZQ3I"
      },
      "execution_count": null,
      "outputs": []
    },
    {
      "cell_type": "markdown",
      "source": [
        "### About missingno heatmap\n",
        "1. Used to identify if there is a relationship in the presence of null values between each of the columns.\n",
        "2. Values close to positive 1 or negative 1 indicate that the presence of null values in one column is either correlated or anti-correlated with the presence of null values in another column.\n",
        "3. Values close to 0 indicate that there is little to no relationship between the presence of null values in one colum compared to another."
      ],
      "metadata": {
        "id": "prNy7Wu0ZXNL"
      }
    },
    {
      "cell_type": "code",
      "source": [
        "# Using train data to identify the correlation of missing values. \n",
        "# Some features indicate 1 or close to 1 correlation. These features have similar syntax meanings \n",
        "# MasVnrType and MasVnrType, Bsmt feature group, Garage feature group.\n",
        "msno.heatmap(X_train)"
      ],
      "metadata": {
        "id": "ARy5uoO_ZVZ8"
      },
      "execution_count": null,
      "outputs": []
    },
    {
      "cell_type": "code",
      "source": [
        "# Detect which features have missing values\n",
        "withNull = X_global.isnull().sum().sort_values(ascending=False)/len(X_global) * 100\n",
        "null_features = withNull[withNull!=0]\n",
        "# Plot features with missing values\n",
        "fig, ax = plt.subplots(figsize=(15,10))\n",
        "sns.barplot(x=null_features.index, y=null_features.values)\n",
        "plt.xticks(rotation=45)\n",
        "plt.xlabel('Features', fontsize=15)\n",
        "plt.ylabel('Percentage of missing values', fontsize=15)\n",
        "plt.title('Features by percentage of missing values', fontsize=20)"
      ],
      "metadata": {
        "id": "-lGmxuetZavX"
      },
      "execution_count": null,
      "outputs": []
    },
    {
      "cell_type": "markdown",
      "source": [
        "### Day9 (2022-02-01)\n",
        "Handling Missing information"
      ],
      "metadata": {
        "id": "eacKhkDtKPMW"
      }
    },
    {
      "cell_type": "code",
      "source": [
        "withNull"
      ],
      "metadata": {
        "id": "Vi3XxaWpZa6h"
      },
      "execution_count": null,
      "outputs": []
    },
    {
      "cell_type": "code",
      "source": [
        "# Removing the features of PoolQC, MiscFeature, Alley, Fence as they miss over 80% values \n",
        "# Update the training data\n",
        "to_remove =  withNull.index[0:4]\n",
        "X_global.drop(columns=to_remove, inplace=True)"
      ],
      "metadata": {
        "id": "D1p-r05HZa9l"
      },
      "execution_count": 1,
      "outputs": []
    },
    {
      "cell_type": "code",
      "source": [
        "# Inspect the rest null features one by one\n",
        "# FireplaceQu missing values is due to some houses do not have fireplace\n",
        "# fill null value with NF as no fireplace\n",
        "X_global['FireplaceQu'].value_counts()\n",
        "X_global['FireplaceQu'] = X_global['FireplaceQu'].fillna(\"NF\")"
      ],
      "metadata": {
        "id": "ENWwEpTBKTJj"
      },
      "execution_count": 1,
      "outputs": []
    },
    {
      "cell_type": "code",
      "source": [
        "# LotFrontage: Linear feet of street connected to property\n",
        "# LotFrontage is indenpent from other features from nullity correlation matrix\n",
        "# Fill the column with median value\n",
        "# Missing values filling missing values with global median values can lead to data leakage\n",
        "# Even the leaking effect is slight it is worthy to specify that. \n",
        "X_global['LotFrontage'].describe()\n",
        "X_global['LotFrontage'] = X_global['LotFrontage'].fillna(X_global['LotFrontage'].median())"
      ],
      "metadata": {
        "id": "Xt8YqsFeKTL0"
      },
      "execution_count": 1,
      "outputs": []
    },
    {
      "cell_type": "code",
      "source": [
        "# Garage feature group\n",
        "# The garage feature group as GarageYrBlt, GarageCond, GarageType, GarageFinish, GarageQual\n",
        "# These five features have the same percentage of missing valuse due to some houses have no garage\n",
        "# Fill these columns with NG as no garage.\n",
        "# Notice that GarageYrBlt (temporarily fill with NG)\n",
        "garage_features = [\"GarageYrBlt\", \"GarageCond\", \"GarageType\", \"GarageFinish\", \"GarageQual\"]\n",
        "X_global[garage_features] = X_global[garage_features].fillna('NG')"
      ],
      "metadata": {
        "id": "is8pzeh5KTOD"
      },
      "execution_count": 1,
      "outputs": []
    },
    {
      "cell_type": "code",
      "source": [
        "# Basement feature group\n",
        "# Similar to garage feature group\n",
        "# The missing value mostly due to there is no basement\n",
        "# Fill missing values with NB as no basement\n",
        "basement_features = [\"BsmtFinType2\", \"BsmtExposure\", \"BsmtQual\", \"BsmtCond\", \"BsmtFinType1\"]\n",
        "X_global[basement_features] = X_global[basement_features].fillna('NB')"
      ],
      "metadata": {
        "id": "kEpy2KthKTQG"
      },
      "execution_count": 1,
      "outputs": []
    },
    {
      "cell_type": "code",
      "source": [
        "# Masonry feature group\n",
        "# MasVnrType and MasVnrArea have the same percentage of missing values\n",
        "# Due to some houses have no masonry\n",
        "# Fill missing values with NM as no masonry\n",
        "masonry_features = [\"MasVnrType\", \"MasVnrArea\"]\n",
        "X_global[masonry_features] = X_global[masonry_features].fillna('NM')"
      ],
      "metadata": {
        "id": "NAQ9CVpzKTSC"
      },
      "execution_count": 1,
      "outputs": []
    },
    {
      "cell_type": "code",
      "source": [
        "# Electrical feature has only one missing values\n",
        "# Fill the missing with mostly present values\n",
        "electrical_most = X_global['Electrical'].value_counts(ascending=False).index[0]\n",
        "X_global['Electrical'] = X_global['Electrical'].fillna(electrical_most)"
      ],
      "metadata": {
        "id": "TuGtUJ7NKTUG"
      },
      "execution_count": 1,
      "outputs": []
    },
    {
      "cell_type": "code",
      "source": [
        "# MSZoning feature has missing only in test set\n",
        "# Fill the missing with mostly present values\n",
        "MSZoning_most = X_global['MSZoning'].value_counts(ascending=False).index[0]\n",
        "X_global['MSZoning'] = X_global['MSZoning'].fillna(MSZoning_most)"
      ],
      "metadata": {
        "id": "0TdUSRukKTWL"
      },
      "execution_count": 1,
      "outputs": []
    },
    {
      "cell_type": "code",
      "source": [
        "# BsmtHalfBath and BsmtFullBath features\n",
        "# Fill the missing with mostly present values\n",
        "BsmtHalfBath_most = X_global['BsmtHalfBath'].value_counts(ascending=False).index[0]\n",
        "X_global['BsmtHalfBath'] = X_global['BsmtHalfBath'].fillna(BsmtHalfBath_most)\n",
        "\n",
        "BsmtFullBath_most = X_global['BsmtFullBath'].value_counts(ascending=False).index[0]\n",
        "X_global['BsmtFullBath'] = X_global['BsmtFullBath'].fillna(BsmtFullBath_most)"
      ],
      "metadata": {
        "id": "vo3l8RR-KTYJ"
      },
      "execution_count": 1,
      "outputs": []
    },
    {
      "cell_type": "code",
      "source": [
        "# Funtional feature\n",
        "Functional_most = X_global['Functional'].value_counts(ascending=False).index[0]\n",
        "X_global['Functional'] = X_global['Functional'].fillna(Functional_most)"
      ],
      "metadata": {
        "id": "3mZhgo2MKTaM"
      },
      "execution_count": null,
      "outputs": []
    },
    {
      "cell_type": "code",
      "source": [
        "# Utilites feature\n",
        "Utilities_most = X_global['Utilities'].value_counts(ascending=False).index[0]\n",
        "X_global['Utilities'] = X_global['Utilities'].fillna(Utilities_most)"
      ],
      "metadata": {
        "id": "egjPXcAxKhc7"
      },
      "execution_count": null,
      "outputs": []
    },
    {
      "cell_type": "code",
      "source": [
        "# BsmtFinSF1, BsmtFinSF2, BsmtUnfSF, TotalBsmtSF, GarageCars, GarageArea\n",
        "# use for loop to all the missing feature\n",
        "\n",
        "for feature in ['Exterior1st', 'Exterior2nd','KitchenQual', 'SaleType']:\n",
        "    feature_most = X_global[feature].value_counts(ascending=False).index[0]\n",
        "    X_global[feature] = X_global[feature].fillna(feature_most)\n",
        "\n",
        "for feature in ['BsmtFinSF1', 'BsmtFinSF2', 'BsmtUnfSF', 'TotalBsmtSF', 'GarageCars', 'GarageArea']:\n",
        "    feature_median = X_global[feature].median()\n",
        "    X_global[feature] = X_global[feature].fillna(feature_median)"
      ],
      "metadata": {
        "id": "tB0z5OvDKhf5"
      },
      "execution_count": null,
      "outputs": []
    },
    {
      "cell_type": "code",
      "source": [
        "# Re-check the missing values\n",
        "print(f\"After handling the missing value, there are {X_global.isnull().sum().sum(axis=0)} missing in the training data.\")"
      ],
      "metadata": {
        "id": "wcpGxsjPKhi4"
      },
      "execution_count": null,
      "outputs": []
    },
    {
      "cell_type": "code",
      "source": [
        ""
      ],
      "metadata": {
        "id": "AEfMk7UiKhl8"
      },
      "execution_count": null,
      "outputs": []
    }
  ]
}